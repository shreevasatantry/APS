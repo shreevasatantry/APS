{
  "nbformat": 4,
  "nbformat_minor": 0,
  "metadata": {
    "kernelspec": {
      "display_name": "R",
      "language": "R",
      "name": "ir"
    },
    "language_info": {
      "codemirror_mode": "r",
      "file_extension": ".r",
      "mimetype": "text/x-r-source",
      "name": "R",
      "pygments_lexer": "r",
      "version": "3.3.1"
    },
    "colab": {
      "name": "MCL605Lab11RCode.ipynb",
      "provenance": [],
      "collapsed_sections": []
    }
  },
  "cells": [
    {
      "cell_type": "code",
      "metadata": {
        "id": "dO8c1j8QqPou"
      },
      "source": [
        "library(ggplot2)"
      ],
      "execution_count": 17,
      "outputs": []
    },
    {
      "cell_type": "markdown",
      "metadata": {
        "id": "m7XbwAYxyYV1"
      },
      "source": [
        "Suppose we have a bag with 10 balls of which 4 are black and 6 are white. Suppose we pick 2 balls randomly from the bag *with replacement*. What is the probability that both are black?\r\n",
        "\r\n",
        "Let $X$ denote the number of black balls. Then $$X\\sim\\text{Bin}\\left(\\underbrace{n=2, p=4/(4+6)}_{\\text{parameters of the distribution}}\\right).$$\r\n",
        "If we want the likelihood of getting $$j$$ successes, where $j=0,1,2,\\ldots,n, $ then $$P(X=j) = \\binom{n}{j}p^j(1-p)^{n-j},$$ which can be calculated using the function call $$\\texttt{dbinom(j, size=n, prob=p)}$$ "
      ]
    },
    {
      "cell_type": "code",
      "metadata": {
        "id": "VDT7pqdoyK_D",
        "colab": {
          "base_uri": "https://localhost:8080/",
          "height": 69
        },
        "outputId": "2b481d8d-1f4d-430b-fb78-12aabe2c08de"
      },
      "source": [
        "# Number of trials (draws)\r\n",
        "n = 2\r\n",
        "# Success probability\r\n",
        "p = 4 / 10\r\n",
        "# Desired number of successes\r\n",
        "j = 2\r\n",
        "choose(n,j)*p^j*(1-p)^(n-j)\r\n",
        "dbinom(j, n, p)\r\n",
        "\r\n",
        "# Another way of looking at the parameters\r\n",
        "# Number of successes \r\n",
        "nsuccess = 4\r\n",
        "# Number of failures \r\n",
        "nfailure = 6\r\n",
        "# Draw size (number of trials)\r\n",
        "n = 2\r\n",
        "# Desired number of successes\r\n",
        "j = 2\r\n",
        "dbinom(j, n, nsuccess/(nsuccess+nfailure))"
      ],
      "execution_count": null,
      "outputs": [
        {
          "output_type": "display_data",
          "data": {
            "text/plain": [
              "[1] 0.16"
            ],
            "text/latex": "0.16",
            "text/markdown": "0.16",
            "text/html": [
              "0.16"
            ]
          },
          "metadata": {
            "tags": []
          }
        },
        {
          "output_type": "display_data",
          "data": {
            "text/plain": [
              "[1] 0.16"
            ],
            "text/latex": "0.16",
            "text/markdown": "0.16",
            "text/html": [
              "0.16"
            ]
          },
          "metadata": {
            "tags": []
          }
        },
        {
          "output_type": "display_data",
          "data": {
            "text/plain": [
              "[1] 0.16"
            ],
            "text/latex": "0.16",
            "text/markdown": "0.16",
            "text/html": [
              "0.16"
            ]
          },
          "metadata": {
            "tags": []
          }
        }
      ]
    },
    {
      "cell_type": "markdown",
      "metadata": {
        "id": "WGlTi4t4lxgF"
      },
      "source": [
        "Suppose we have a bag with 10 balls of which 4 are black and 6 are white. Suppose we pick 2 balls randomly from the bag *without replacement*. What is the probability that both are black?\r\n",
        "\r\n",
        "Let $X$ denote the number of black balls. Then $$X\\sim\\text{Hyper}(\\text{nsuccess} = 4, \\text{nfailure} = 6, \\text{draw size} = 2).$$\r\n",
        "If we want the likelihood of getting $$j$$ successes, where $j=0,1,2,\\ldots,n, $ then $$P(X=j) = \\frac{\\binom{\\text{nsuccess}}{j}\\binom{\\text{nfailure}}{n-j}}{\\binom{\\text{nsuccess+nfailure}}{n}},$$ which can be calculated using the function call $$\\texttt{dhyper(j, nsuccess, nfailure, draw size n)}$$ "
      ]
    },
    {
      "cell_type": "code",
      "metadata": {
        "colab": {
          "base_uri": "https://localhost:8080/",
          "height": 51
        },
        "id": "bK6JUasGl6DG",
        "outputId": "cb85b18b-98d6-476c-be24-243aec5b4490"
      },
      "source": [
        "# Draw size\r\n",
        "n = 2\r\n",
        "# Number of successes \r\n",
        "nsuccess = 4\r\n",
        "# Number of failures \r\n",
        "nfailure = 6\r\n",
        "# Desired number of successes\r\n",
        "j = 2\r\n",
        "(choose(nsuccess, j) * choose(nfailure, n-j))/(choose(nsuccess+nfailure, n))\r\n",
        "dhyper(j, nsuccess, nfailure, n)"
      ],
      "execution_count": null,
      "outputs": [
        {
          "output_type": "display_data",
          "data": {
            "text/plain": [
              "[1] 0.1333333"
            ],
            "text/latex": "0.133333333333333",
            "text/markdown": "0.133333333333333",
            "text/html": [
              "0.133333333333333"
            ]
          },
          "metadata": {
            "tags": []
          }
        },
        {
          "output_type": "display_data",
          "data": {
            "text/plain": [
              "[1] 0.1333333"
            ],
            "text/latex": "0.133333333333333",
            "text/markdown": "0.133333333333333",
            "text/html": [
              "0.133333333333333"
            ]
          },
          "metadata": {
            "tags": []
          }
        }
      ]
    },
    {
      "cell_type": "markdown",
      "metadata": {
        "id": "GxJk6M_DiM8b"
      },
      "source": [
        "Type O blood is one of the best to be donated since it can be used for many people. Approximately 42% of people have type O blood. In a given day at a blood bank, about\r\n",
        "120 people come in to donate. The blood bank is interested in the probability that the number of donors who are type O is equal to 30."
      ]
    },
    {
      "cell_type": "code",
      "metadata": {
        "colab": {
          "base_uri": "https://localhost:8080/",
          "height": 34
        },
        "id": "57KUxzuuizKJ",
        "outputId": "eca60d2c-abbe-4006-fc37-1d4290440a6a"
      },
      "source": [
        "# Number of trials\r\n",
        "n = 120\r\n",
        "# Success probability\r\n",
        "p = 0.42\r\n",
        "# Desired number of successes\r\n",
        "j = 100\r\n",
        "dbinom(48, n, p)"
      ],
      "execution_count": null,
      "outputs": [
        {
          "output_type": "display_data",
          "data": {
            "text/plain": [
              "[1] 0.06718474"
            ],
            "text/latex": "0.0671847420260362",
            "text/markdown": "0.0671847420260362",
            "text/html": [
              "0.0671847420260362"
            ]
          },
          "metadata": {
            "tags": []
          }
        }
      ]
    },
    {
      "cell_type": "markdown",
      "metadata": {
        "id": "A6IQfnosNijs"
      },
      "source": [
        " A certain stoplight, when coming from the North, is green approximately 31% of\r\n",
        "the time. Over the next few days, someone comes to this light 8 times from the\r\n",
        "North. We are interested in the probability that the person will come across green light 5 times.\r\n",
        "\r\n",
        "$$X\\sim\\text{Bin}(n=8, p=0.31)$$\r\n",
        "\r\n",
        "and we need $$P(X = 5)$$"
      ]
    },
    {
      "cell_type": "code",
      "metadata": {
        "colab": {
          "base_uri": "https://localhost:8080/",
          "height": 34
        },
        "id": "9vLxKqjoNk48",
        "outputId": "70d9d6a1-5c6f-4359-8388-d4f40f241b6b"
      },
      "source": [
        "# Number of trials\r\n",
        "n = 8\r\n",
        "# Success probability\r\n",
        "p = 0.31\r\n",
        "# Desired number of successes\r\n",
        "j = 5\r\n",
        "dbinom(j, n, p)"
      ],
      "execution_count": null,
      "outputs": [
        {
          "output_type": "display_data",
          "data": {
            "text/plain": [
              "[1] 0.05266763"
            ],
            "text/latex": "0.0526676290888104",
            "text/markdown": "0.0526676290888104",
            "text/html": [
              "0.0526676290888104"
            ]
          },
          "metadata": {
            "tags": []
          }
        }
      ]
    },
    {
      "cell_type": "markdown",
      "metadata": {
        "id": "3P7WCtp7PAx0"
      },
      "source": [
        " A certain stoplight, when coming from the North, is green approximately 31% of\r\n",
        "the time. Over the next few days, someone comes to this light 8 times from the\r\n",
        "North. We are interested in the probability that the person will come across green light at most 5 times.\r\n",
        "\r\n",
        "$$X\\sim\\text{Bin}(n=8, p=0.31)$$\r\n",
        "\r\n",
        "and we need $$P(X \\leq 5) = P(X=0)+P(X=1)+P(X=2)+P(X=3)+P(X=4)+P(X=5)$$"
      ]
    },
    {
      "cell_type": "code",
      "metadata": {
        "colab": {
          "base_uri": "https://localhost:8080/",
          "height": 51
        },
        "id": "t7e2fQArPdbp",
        "outputId": "7a26cb04-e341-41a7-b6ab-843a71138882"
      },
      "source": [
        "# Number of trials\r\n",
        "n = 8\r\n",
        "# Success probability\r\n",
        "p = 0.31\r\n",
        "# Desired number of at most successes\r\n",
        "j = c(0:5)\r\n",
        "sum(dbinom(j, n, p))\r\n",
        "pbinom(5, n, p)"
      ],
      "execution_count": null,
      "outputs": [
        {
          "output_type": "display_data",
          "data": {
            "text/plain": [
              "[1] 0.9865649"
            ],
            "text/latex": "0.986564880526654",
            "text/markdown": "0.986564880526654",
            "text/html": [
              "0.986564880526654"
            ]
          },
          "metadata": {
            "tags": []
          }
        },
        {
          "output_type": "display_data",
          "data": {
            "text/plain": [
              "[1] 0.9865649"
            ],
            "text/latex": "0.986564880526654",
            "text/markdown": "0.986564880526654",
            "text/html": [
              "0.986564880526654"
            ]
          },
          "metadata": {
            "tags": []
          }
        }
      ]
    },
    {
      "cell_type": "markdown",
      "metadata": {
        "id": "DHQmTe5CQJ0w"
      },
      "source": [
        "Probability Mass Function (PMF): $P_X(j) = P(X = j)$. We calculate $P_X(5) = P(X=5)$ using the $\\texttt{dbinom}$ function.\r\n",
        "\r\n",
        "Cumulative Distribution Funcion (CDF): $F_X(j) = P(X \\leq j)$. We calculate $F_X(5) = P(X\\leq5)$ using the $\\texttt{pbinom}$ function."
      ]
    },
    {
      "cell_type": "markdown",
      "metadata": {
        "id": "970smlhNjWO4"
      },
      "source": [
        "An assembly line produces products that they put into boxes of 50. The inspector then randomly picks 3 items inside a box to test to see if they are defective. In a box containing 4 defectives, they are interested in the probability that at least one of the three items sampled is defective.\r\n",
        "\r\n",
        "We need $$ P(X \\geq 1),$$ where $$X\\sim\\text{Hyper}(4, 46, 3).$$\r\n",
        "\r\n",
        "$$P(X >= 1) = 1 - \\underbrace{P(X <=0)}_{=F_X(0)}$$"
      ]
    },
    {
      "cell_type": "code",
      "metadata": {
        "colab": {
          "base_uri": "https://localhost:8080/",
          "height": 51
        },
        "id": "TBxIBRwqjbgI",
        "outputId": "9b20dcb1-403c-4f6e-e218-3b38f1a7ebd3"
      },
      "source": [
        "# Number of draws\r\n",
        "n = 3\r\n",
        "# Number of successes\r\n",
        "nsuccess = 4\r\n",
        "# Number of failures \r\n",
        "nfailure = 46 \r\n",
        "# Desired number of (at least) successes\r\n",
        "j = c(1:3)\r\n",
        "sum(dhyper(j, nsuccess, nfailure, n))\r\n",
        "1 - phyper(0, nsuccess, nfailure, n) # 1 - P(X <= 0)"
      ],
      "execution_count": null,
      "outputs": [
        {
          "output_type": "display_data",
          "data": {
            "text/plain": [
              "[1] 0.2255102"
            ],
            "text/latex": "0.225510204081633",
            "text/markdown": "0.225510204081633",
            "text/html": [
              "0.225510204081633"
            ]
          },
          "metadata": {
            "tags": []
          }
        },
        {
          "output_type": "display_data",
          "data": {
            "text/plain": [
              "[1] 0.2255102"
            ],
            "text/latex": "0.225510204081632",
            "text/markdown": "0.225510204081632",
            "text/html": [
              "0.225510204081632"
            ]
          },
          "metadata": {
            "tags": []
          }
        }
      ]
    },
    {
      "cell_type": "code",
      "metadata": {
        "colab": {
          "base_uri": "https://localhost:8080/",
          "height": 34
        },
        "id": "ZRcAbnzXay18",
        "outputId": "fad94371-670b-4b0c-b5d7-4eb22daa5b81"
      },
      "source": [
        "r = 1\r\n",
        "p = 0.02\r\n",
        "j = 5\r\n",
        "dnbinom(j, r, p)"
      ],
      "execution_count": null,
      "outputs": [
        {
          "output_type": "display_data",
          "data": {
            "text/plain": [
              "[1] 0.01807842"
            ],
            "text/latex": "0.018078415936",
            "text/markdown": "0.018078415936",
            "text/html": [
              "0.018078415936"
            ]
          },
          "metadata": {
            "tags": []
          }
        }
      ]
    },
    {
      "cell_type": "markdown",
      "metadata": {
        "id": "8SFBTm-_jBIz"
      },
      "source": [
        "![Production problem](https://bl3302files.storage.live.com/y4mQmboNuB8pzzTSeQ43MRiv0qHzGJuNApOK4K2tSP3rzOrM9q-geOoOpVpHtISM3kIq6BjF_Nfw4SxOcrQGYnvciSlcXZxpvV_fiw8xW5jHpQr0i5_fmnbXg300oB4JhhNULb4PB27BVND1kJRpTLK8LRMXyf7KBaaULR9Y9q_Rtz6qvi0bYPFZwcEkvCEHM7d?width=640&height=480&cropmode=none)"
      ]
    },
    {
      "cell_type": "code",
      "metadata": {
        "id": "OOKhigw6QLmz"
      },
      "source": [
        "n = 5\r\n",
        "j = c(0:5)\r\n",
        "p_ic =? # defect rate when machine is in control\r\n",
        "p_oc =  # defect rate when machine is out of control\r\n",
        "icp =  # prior in control probability\r\n",
        "ocp =  # prior out of control probability\r\n",
        "uicp =  # updated/posterior in control probability\r\n",
        "uocp =  # updated/posterior out of control probability\r\n",
        "print(j)\r\n",
        "print(uicp)\r\n",
        "print(uocp)\r\n"
      ],
      "execution_count": null,
      "outputs": []
    }
  ]
}