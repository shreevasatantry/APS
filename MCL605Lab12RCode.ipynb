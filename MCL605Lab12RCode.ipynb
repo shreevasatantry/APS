{
  "nbformat": 4,
  "nbformat_minor": 0,
  "metadata": {
    "kernelspec": {
      "display_name": "R",
      "language": "R",
      "name": "ir"
    },
    "language_info": {
      "codemirror_mode": "r",
      "file_extension": ".r",
      "mimetype": "text/x-r-source",
      "name": "R",
      "pygments_lexer": "r",
      "version": "3.3.1"
    },
    "colab": {
      "name": "MCL605Lab12RCode.ipynb",
      "provenance": [],
      "collapsed_sections": []
    }
  },
  "cells": [
    {
      "cell_type": "code",
      "metadata": {
        "id": "dO8c1j8QqPou"
      },
      "source": [
        "library(ggplot2)\r\n",
        "library(dplyr)"
      ],
      "execution_count": null,
      "outputs": []
    },
    {
      "cell_type": "markdown",
      "metadata": {
        "id": "KCZUWGaqkF4D"
      },
      "source": [
        "**(1)** Simulate $10^6$ samples of the binomial random variable $$X\\sim\\text{Bin}(n = 12, p = 0.2)$$ and plot a histogram of the simulated values (also known as realizations of the random variable $X$)"
      ]
    },
    {
      "cell_type": "code",
      "metadata": {
        "id": "tWo3iI_s8fVM"
      },
      "source": [
        "n = 12\r\n",
        "p = 0.2\r\n",
        "samplesize = 1e06\r\n",
        "simulatedData = rbinom(samplesize, n, p)\r\n",
        "dfBinom = as.data.frame(simulatedData)\r\n",
        "colnames(dfBinom) = c('Output')\r\n",
        "p1 = ggplot(data = dfBinom, aes(x = factor(Output))) +\r\n",
        "  geom_bar(stat = 'count', width = 0.7, fill = 'steelblue')+\r\n",
        "  theme(axis.text = element_text(size = 12),\r\n",
        "  axis.text.x = element_text(size = 14),\r\n",
        "  axis.text.y = element_text(size = 14),\r\n",
        "  axis.title =element_text(size = 14, face = \"bold\")) +\r\n",
        "  labs(x = 'j',\r\n",
        "       y = 'Count',\r\n",
        "       title = sprintf('Mean = %f, Median = %f, Variance = %f', mean(simulatedData), median(simulatedData), var(simulatedData)))\r\n",
        "p1 "
      ],
      "execution_count": null,
      "outputs": []
    },
    {
      "cell_type": "markdown",
      "metadata": {
        "id": "U0cv2chKlXvn"
      },
      "source": [
        "**(2)** Plot the Probability Mass Function (PMF) of the binomial random variable $$X\\sim\\text{Bin}(n=12, p =0.2).$$\r\n",
        "\r\n",
        "$$\\underbrace{P_X}_\\text{function name}\\left(\\underbrace{j}_{\\text{input}}\\right) = \\underbrace{P(X=j)}_\\text{output}.$$\r\n"
      ]
    },
    {
      "cell_type": "code",
      "metadata": {
        "id": "G4T-VvvY-Ey0"
      },
      "source": [
        "n = 12\r\n",
        "p = 0.2\r\n",
        "j = c(0:n)\r\n",
        "dfBinom = as.data.frame(cbind(j, dbinom(j, n, p)))\r\n",
        "colnames(dfBinom) = c('j', 'Prob')\r\n",
        "p2 = ggplot(data = dfBinom, aes(x = j, y = Prob)) +\r\n",
        "  geom_point(size = 5) +\r\n",
        "  scale_x_continuous(breaks = seq(0, n, by = 1)) +\r\n",
        "  theme(axis.text = element_text(size = 12),\r\n",
        "  axis.text.x = element_text(size = 14),\r\n",
        "  axis.text.y = element_text(size = 14),\r\n",
        "  axis.title = element_text(size = 14, face = \"bold\"))\r\n",
        "p2"
      ],
      "execution_count": null,
      "outputs": []
    },
    {
      "cell_type": "markdown",
      "metadata": {
        "id": "DdGO49XEooIs"
      },
      "source": [
        "**(3)** Plot the Cumulative Distribution Function (CDF) of the binomial random variable $$X\\sim\\text{Bin}(n=12, p =0.2).$$\r\n",
        "\r\n",
        "$$\\underbrace{F_X}_\\text{function name}\\left(\\underbrace{j}_{\\text{input}}\\right) = \\underbrace{P(X\\leq j)}_\\text{output}.$$\r\n"
      ]
    },
    {
      "cell_type": "code",
      "metadata": {
        "id": "BO-cTDy6MJBA"
      },
      "source": [
        "# Plot the Cumuluative Distribution Function (CDF) of a\r\n",
        "# binomial random variable with parameters n=12 and p=0.2\r\n",
        "# assign the probabilities\r\n",
        "n = 12\r\n",
        "p = 0.2\r\n",
        "j = 0:n\r\n",
        "df = as.data.frame(cbind(j, pbinom(j, n, p)))\r\n",
        "colnames(df) = c('j', 'CProb')\r\n",
        "p3 = ggplot(data = df, aes(x = j, y = CProb)) +\r\n",
        "  geom_point(size = 5) +\r\n",
        "  scale_x_continuous(breaks = seq(0, n, by = 1)) +\r\n",
        "  theme(axis.text = element_text(size = 12),\r\n",
        "  axis.text.x = element_text(size = 14),\r\n",
        "  axis.text.y = element_text(size = 14),\r\n",
        "  axis.title =element_text(size = 14, face = \"bold\"))\r\n",
        "p3"
      ],
      "execution_count": null,
      "outputs": []
    },
    {
      "cell_type": "markdown",
      "metadata": {
        "id": "az5DreYz_LPZ"
      },
      "source": [
        "**(4)** Simulate $10^6$ samples of the negative binomial random variable $$X\\sim\\text{NegBin}(r = 3, p = 0.2)$$ and plot a histogram of the simulated values (also known as realizations of the random variable $X$)"
      ]
    },
    {
      "cell_type": "markdown",
      "metadata": {
        "id": "5wDNAIdiBNCD"
      },
      "source": [
        "**(5)** Plot the Probability Mass Function (PMF) of the negative binomial random variable $$X\\sim\\text{NegBin}(r=3, p =0.2).$$\r\n",
        "\r\n",
        "$$\\underbrace{P_X}_\\text{function name}\\left(\\underbrace{j}_{\\text{input}}\\right) = \\underbrace{P(X=j)}_\\text{output}.$$\r\n"
      ]
    },
    {
      "cell_type": "markdown",
      "metadata": {
        "id": "zNHMkU_uBrck"
      },
      "source": [
        "**(6)** Plot the Cumulative Distribution Function (CDF) of the negative binomial random variable $$X\\sim\\text{NegBin}(r=3, p =0.2).$$\r\n",
        "\r\n",
        "$$\\underbrace{F_X}_\\text{function name}\\left(\\underbrace{j}_{\\text{input}}\\right) = \\underbrace{P(X\\leq j)}_\\text{output}.$$"
      ]
    },
    {
      "cell_type": "markdown",
      "metadata": {
        "id": "wLc8POeyB5ER"
      },
      "source": [
        "**(7)** An oil company has a $20\\%$ chance of striking oil when drilling a well. What is the probability the company drills $7$ wells to strike oil $3$ times?"
      ]
    },
    {
      "cell_type": "code",
      "metadata": {
        "id": "6Obl0q3bCDyn"
      },
      "source": [
        "# Theoretical probability\r\n",
        "r = ?\r\n",
        "p = ?\r\n",
        "j = ?\r\n",
        "?(?, ?, ?)\r\n",
        "\r\n",
        "# Monte-Carlo approximation\r\n",
        "samplesize = 1e06\r\n",
        "mean(?)\r\n",
        "\r\n",
        "# PMF highlighting the value of interest\r\n",
        "j = c(?:?)\r\n",
        "dfnBinom = as.data.frame(cbind(j, dnbinom(j-r, r, p)))\r\n",
        "colnames(dfnBinom) = c('j', 'Prob')\r\n",
        "dfnBinom = dfnBinom %>% mutate(Failures = ifelse(j == ?, ?, \"other\"))\r\n",
        "p5 = ggplot(data = dfnBinom, aes(x = factor(j), y = Prob, fill = Failures)) +\r\n",
        "  geom_col() +\r\n",
        "  geom_text(\r\n",
        "    aes(label = round(Prob,2), y = Prob + 0.001),\r\n",
        "    position = position_dodge(0.9),\r\n",
        "    size = 3,\r\n",
        "    vjust = 0\r\n",
        "  ) +\r\n",
        "  theme(axis.text = element_text(size = 12),\r\n",
        "  axis.text.x = element_text(size = 14),\r\n",
        "  axis.text.y = element_text(size = 14),\r\n",
        "  axis.title =element_text(size = 14, face = \"bold\"))\r\n",
        "p5"
      ],
      "execution_count": null,
      "outputs": []
    },
    {
      "cell_type": "markdown",
      "metadata": {
        "id": "RAxeLcPRln7I"
      },
      "source": [
        "**(8)** A person conducting telephone surveys must get 4 more completed surveys before their job is finished. On each randomly dialed number, there is a 90% chance of the participant rejecting the call. What is the probability that the person will finish their job at the 10th call?"
      ]
    },
    {
      "cell_type": "markdown",
      "metadata": {
        "id": "4QdGr44Rmylx"
      },
      "source": [
        "**(9)** A deck of cards contains 20 cards: 6 red cards and 14 black cards. 5 cards are drawn randomly *without replacement*. What is the probability that exactly 4 red cards are drawn?\r\n",
        "\r\n",
        "$$X\\sim\\text{HypGeom}(n_s = 6, n_f = 14, n = 5)$$\r\n",
        "\r\n",
        "$$P(X=4) = \\frac{n_sC_4\\times n_fC_{5-4}}{(n_s+n_f)C_5}$$"
      ]
    },
    {
      "cell_type": "code",
      "metadata": {
        "id": "HQ938ert1_TG"
      },
      "source": [
        "n = 5\r\n",
        "ns = 6\r\n",
        "nf = 14\r\n",
        "dhyper(4, ns, nf, n)"
      ],
      "execution_count": null,
      "outputs": []
    },
    {
      "cell_type": "markdown",
      "metadata": {
        "id": "gr5nX5kpmznu"
      },
      "source": [
        "**(10)** A deck of cards contains 20 cards: 6 red cards and 14 black cards. 5 cards are drawn randomly *with replacement*. What is the probability that exactly 4 red cards are drawn?\r\n",
        "\r\n",
        "$$X\\sim\\text{Bin}(n = 5, p = 6/20)$$"
      ]
    },
    {
      "cell_type": "code",
      "metadata": {
        "id": "VWgNQZhF0UDl"
      },
      "source": [
        "n = 5\r\n",
        "ns = 6\r\n",
        "nf = 14\r\n",
        "p = ns/(ns+nf)\r\n",
        "dbinom(4, n, p)"
      ],
      "execution_count": null,
      "outputs": []
    },
    {
      "cell_type": "markdown",
      "metadata": {
        "id": "8PzOtyOsoFGx"
      },
      "source": [
        "**(11)** A small voting district has 1010 female voters and 950 male voters. A random sample of 10 voters is drawn. What is the probability exactly 5 of the voters will be female?\r\n",
        "\r\n",
        "$$X\\sim\\text{HypGeom}(n_s=1010, n_f = 950, n = 10)$$"
      ]
    },
    {
      "cell_type": "code",
      "metadata": {
        "id": "kDBcuMSCnDNE"
      },
      "source": [
        "dhyper(500, 1010, 950, 1000) # P(X=5)\r\n",
        "dbinom(500, 1000, 1010/(950+1010)) # P(X=5)"
      ],
      "execution_count": null,
      "outputs": []
    },
    {
      "cell_type": "markdown",
      "metadata": {
        "id": "uWhwTGM5VBpY"
      },
      "source": [
        "**(12)** There are 40,000 gates on an integrated circuit (IC) chip. If the probability of a gate being defective is 1/100,000, independently of all other gates, what is the probability that exactly 10 gates are defective?"
      ]
    },
    {
      "cell_type": "code",
      "metadata": {
        "id": "V_Tv5wcamDOd"
      },
      "source": [
        "n = 40000\r\n",
        "p = 1/100000 # (ns=1, nf = 100000-1) or (ns = 2, nf = 2(100000-1))\r\n",
        "dbinom(10, n, p)\r\n",
        "dhyper(10, 1, 100000-1, 40000)"
      ],
      "execution_count": null,
      "outputs": []
    },
    {
      "cell_type": "markdown",
      "metadata": {
        "id": "pNSobDHAVEiI"
      },
      "source": [
        "**(13)** Suppose that a batch of 100 items contains 6 that are defective and 94 that are not defective. If a random sample of 10 items is drawn from the batch, what is the probability of finding more than 2 defective items?"
      ]
    },
    {
      "cell_type": "markdown",
      "metadata": {
        "id": "wAdB1H9mVHGW"
      },
      "source": [
        "**(14)** A purchaser of transistors buys them in lots of 20. It is his policy to randomly inspect 4 components from a lot and to accept the lot only if all 4 are non-defective. If each component in a lot is, independently, defective with probability 0.1, what proportion of lots is rejected?"
      ]
    },
    {
      "cell_type": "markdown",
      "metadata": {
        "id": "mOBxEnpGVJ3_"
      },
      "source": [
        "**(15)** It is known that diskettes produced by a certain company will be defective with probability .01, independently of each other. The company sells the diskettes in packages of size 10 and offers a money-back guarantee that at most 1 of the 10 diskettes in the package will be defective. The guarantee is that the customer can return the entire package of diskettes if he or she finds more than one defective diskette in it. If someone buys 3 packages, what is the probability that he or she will return exactly 1 of them?"
      ]
    },
    {
      "cell_type": "markdown",
      "metadata": {
        "id": "MzGYL2HHVM9c"
      },
      "source": [
        "**(16)** In a forest that has 100 tigers, 20 are captured, tagged and released. A few weeks later, a sample of 10 tigers from the forest is captured. What is the probability that at least 5 of those captured tigers are tagged?"
      ]
    },
    {
      "cell_type": "markdown",
      "metadata": {
        "id": "AdjusB7IVR50"
      },
      "source": [
        "**(17)** At an airport, it is know that approximately 2 out of 10 passengers have a metallic object. If left undetected at the manual security check at the airport entrance,  such a metallic object will raise an alarm when the passenger walks through an automated screening machine. It is considered a security breach when the alarm gets raised 20 times a day. What is the probability of a security breach on a particular day when the 100th passenger walks through the automated screening machine?"
      ]
    }
  ]
}