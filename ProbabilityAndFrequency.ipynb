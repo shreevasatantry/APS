{
  "nbformat": 4,
  "nbformat_minor": 0,
  "metadata": {
    "kernelspec": {
      "display_name": "R",
      "language": "R",
      "name": "ir"
    },
    "language_info": {
      "codemirror_mode": "r",
      "file_extension": ".r",
      "mimetype": "text/x-r-source",
      "name": "R",
      "pygments_lexer": "r",
      "version": "3.3.1"
    },
    "colab": {
      "name": "ProbabilityAndFrequency.ipynb",
      "provenance": [],
      "collapsed_sections": []
    }
  },
  "cells": [
    {
      "cell_type": "code",
      "metadata": {
        "id": "dO8c1j8QqPou",
        "colab": {
          "base_uri": "https://localhost:8080/"
        },
        "outputId": "43bfa9cb-54bb-443f-d791-386887b54d04"
      },
      "source": [
        "library(ggplot2)\r\n",
        "library(dplyr)"
      ],
      "execution_count": null,
      "outputs": [
        {
          "output_type": "stream",
          "text": [
            "\n",
            "Attaching package: ‘dplyr’\n",
            "\n",
            "\n",
            "The following objects are masked from ‘package:stats’:\n",
            "\n",
            "    filter, lag\n",
            "\n",
            "\n",
            "The following objects are masked from ‘package:base’:\n",
            "\n",
            "    intersect, setdiff, setequal, union\n",
            "\n",
            "\n"
          ],
          "name": "stderr"
        }
      ]
    },
    {
      "cell_type": "code",
      "metadata": {
        "id": "fo7ybUSTRE9L"
      },
      "source": [
        "# Sampling- (as well as sample-) space for a single fair-coin toss\n",
        "S = c('H', 'T')\n",
        "\n",
        "# Corresponding probabilities\n",
        "p = c(0.5, 0.5)\n",
        "\n",
        "# Samples representing outcomes of the experiment of selecting 1 object from\n",
        "# the sampling space with replacement - this corresponds to genrating outcomes\n",
        "# of the random experiment of tossing a single fair coin\n",
        "#set.seed(1)\n",
        "samplesize = 1e04\n",
        "simulatedData = sample(S, size = samplesize, replace = TRUE, prob = p)\n",
        "\n",
        "# Create dataframe comprising frequency of each possible outcome in the sample space\n",
        "df= as.data.frame(table(simulatedData))\n",
        "colnames(df) = c('Toss', 'Frequency')\n",
        "#print(df)\n",
        "\n",
        "# Frequency plot\n",
        "p = ggplot(data = df, aes(x = Toss, y = Frequency)) +\n",
        "  geom_bar(stat = 'identity', fill=\"steelblue\") +\n",
        "  geom_text(aes(label = Frequency), vjust = -0.3, size = 6)+\n",
        "  theme_minimal()\n",
        "\n",
        "p"
      ],
      "execution_count": null,
      "outputs": []
    },
    {
      "cell_type": "code",
      "metadata": {
        "id": "olRHeUAYseGf"
      },
      "source": [
        "# Sampling- (as well as sample-) space for rolling a single fair die\n",
        "S = c(1:6)\n",
        "\n",
        "# Corresponding probabilities\n",
        "p = (1/6)*c(1, 1, 1, 1, 1, 1)\n",
        "\n",
        "# Samples representing outcomes of the experiment of selecting 1 object from\n",
        "# the sampling space with replacement - this corresponds to generating outcomes\n",
        "# of the random experiment of rolling a single fair die\n",
        "#set.seed(1)\n",
        "samplesize = 1e04\n",
        "simulatedData = sample(S, size = samplesize, replace = TRUE, prob = p)\n",
        "\n",
        "# Create dataframe comprising frequency of each possible outcome in the sample space\n",
        "df = as.data.frame(table(simulatedData))\n",
        "colnames(df) = c('Roll', 'Frequency')\n",
        "#print(df)\n",
        "\n",
        "# Frequency plot\n",
        "p = ggplot(data = df, aes(x = Roll, y = Frequency)) +\n",
        "  geom_bar(stat = 'identity', fill=\"steelblue\") +\n",
        "  geom_text(aes(label = Frequency), vjust = -0.3, size = 6)+\n",
        "  theme_minimal()\n",
        "\n",
        "p"
      ],
      "execution_count": null,
      "outputs": []
    },
    {
      "cell_type": "code",
      "metadata": {
        "id": "yu387ZX_v_J4"
      },
      "source": [
        "# Sampling- (as well as sample-) space for rolling a single fair die\n",
        "S = c(1:6)\n",
        "\n",
        "# Corresponding probabilities\n",
        "p = (1/6)*c(1, 1, 1, 1, 1, 1)\n",
        "\n",
        "# Samples representing outcomes of the experiment of selecting 2 objects from\n",
        "# the sampling space with replacement - this corresponds to generating outcomes\n",
        "# of the random experiment of rolling two fair dice\n",
        "samplesize = 1e04\n",
        "simulatedData = replicate(samplesize, sample(S, size = 2, replace = TRUE, prob = p))\n",
        "#print(simulatedData)\n",
        "\n",
        "# Fraction of outcomes where the sum of the rolls is equal to 7\n",
        "print(sum(simulatedData[1, ] + simulatedData[2, ] == 7) / samplesize)"
      ],
      "execution_count": null,
      "outputs": []
    },
    {
      "cell_type": "code",
      "metadata": {
        "id": "knCtE1lg4_t3"
      },
      "source": [
        "# Sampling space for ice-cream selection\n",
        "S = c('vanilla', 'pista', 'strwaberry', 'chocolate', 'blackberry',\n",
        " 'blueberry', 'mango', 'sitaphal', 'chickoo', 'jack fruit')\n",
        "\n",
        "# Corresponding probabilities\n",
        "n = length(S)\n",
        "p = (1/n)*replicate(n, 1)\n",
        "\n",
        "# Samples representing outcomes of the experiment of selecting 3 objects from\n",
        "# the sampling space with replacement - this corresponds to generating outcomes\n",
        "# of the random experiment of selecting 3 flavors from the 10 available\n",
        "#set.seed(1)\n",
        "samplesize = 1e04\n",
        "simulatedData = replicate(samplesize, sample(S, size = 3, replace = TRUE, prob = p))\n",
        "\n",
        "# Approximate probability of getting 3 distinct flavors\n",
        "print(sum(lengths(apply(simulatedData, 2, unique)) == 3) / samplesize)"
      ],
      "execution_count": null,
      "outputs": []
    },
    {
      "cell_type": "code",
      "metadata": {
        "id": "IAohxl9Iwxmx"
      },
      "source": [
        "(choose(6,3)*choose(6,2)*choose(4,2)*choose(2,2))/(6^6)\n",
        "(choose(6,1)*5^2*choose(6,4))/(6^6)\n",
        "(choose(5,4)*choose(4,1)+choose(5,5))/(5^5)"
      ],
      "execution_count": null,
      "outputs": []
    },
    {
      "cell_type": "code",
      "metadata": {
        "id": "rJ5KJeEt25BV"
      },
      "source": [
        "S = c(1,2,3,4,5) # 5 workers\n",
        "\n",
        "# Corresponding probabilities\n",
        "n = length(S)\n",
        "p = (1/n)*replicate(n, 1)\n",
        "\n",
        "samplesize = 1e6\n",
        "simulatedData = replicate(samplesize, sample(S, size = 5, replace = TRUE, prob = p))\n",
        "# print(simulatedData)\n",
        "\n",
        "checkEvent = function(data){\n",
        "    unique_number = unique(data)                # collecting all the unique values occured\n",
        "    for (val in unique_number){\n",
        "        if (length(which(data==val))>=4){       # checking if any unique value occured 4 times or greater\n",
        "            return (1)\n",
        "        }\n",
        "    }\n",
        "    return (0)\n",
        "}\n",
        "\n",
        "approximate_probability = sum(apply(simulatedData, 2, checkEvent)) / samplesize\n",
        "cat(\"Approximate probability of worker breaking the machine at least 4 times is \", approximate_probability, '\\n')\n"
      ],
      "execution_count": null,
      "outputs": []
    },
    {
      "cell_type": "code",
      "metadata": {
        "id": "wjLrc03bCWeZ"
      },
      "source": [
        "# Sampling space for rolling a single fair die\n",
        "S = c(1:6)\n",
        "\n",
        "# Corresponding probabilities\n",
        "p = (1/6)*c(1, 1, 1, 1, 1, 1)\n",
        "\n",
        "# Samples representing outcomes of the experiment of selecting 6 objects from\n",
        "# the sampling space with replacement - this corresponds to generating outcomes\n",
        "# of the random experiment of rolling a fair die 6 times\n",
        "samplesize = 1e06\n",
        "simulatedData = replicate(samplesize, sample(S, size = 6, replace = TRUE, prob = p))\n",
        "\n",
        "checkEvent = function(data){\n",
        "    unique_numbers = unique(data) # collecting all the unique values occured\n",
        "    for (val in unique_numbers){\n",
        "      if (sum(val == data) != 2){\n",
        "        return(0)\n",
        "      }\n",
        "    }    \n",
        "    return (1)\n",
        "}\n",
        "\n",
        "approximate_probability = sum(apply(simulatedData, 2, checkEvent)) / samplesize\n",
        "cat(\"Approximate probability of 3 numbers appearing twice each is \", approximate_probability, '\\n')"
      ],
      "execution_count": null,
      "outputs": []
    },
    {
      "cell_type": "code",
      "metadata": {
        "id": "ozzovD2aDAUS"
      },
      "source": [
        "# Sampling space for rolling a single fair die\n",
        "S = c(1:6)\n",
        "\n",
        "# Corresponding probabilities\n",
        "p = (1/length(S))*replicate(length(S), 1)\n",
        "\n",
        "# Samples representing outcomes of the experiment of selecting 1 object from\n",
        "# the sampling space - this corresponds to generating outcome of the random\n",
        "# experiment of rolling a fair die once\n",
        "samplesize = 1e05\n",
        "simulatedData = replicate(samplesize, sample(S, size = 1, prob = p))\n",
        "\n",
        "checkEvent = function(data){\n",
        "  # Check if roll is greater than or equal to 3 and even (E AND F)\n",
        "  if ((data >= 3) && ((data %% 2) == 0)){    \n",
        "    return(1)\n",
        "  }\n",
        "  else{\n",
        "    return(0)\n",
        "  }\n",
        "}\n",
        "\n",
        "approximate_probability = sum(apply(as.matrix(simulatedData), 1, checkEvent)) / samplesize\n",
        "cat(\"Approximate probability of getting a number >=3 and even is \", approximate_probability, '\\n')"
      ],
      "execution_count": null,
      "outputs": []
    },
    {
      "cell_type": "code",
      "metadata": {
        "id": "Vl8ZeEOQFCjF"
      },
      "source": [
        "# Sampling space for rolling a single fair die when it is known that the rolls are even\n",
        "S = c(2, 4, 6)\n",
        "\n",
        "# Corresponding probabilities\n",
        "p = (1/length(S))*replicate(length(S), 1)\n",
        "\n",
        "# Samples representing outcomes of the experiment of selecting 1 object from\n",
        "# the sampling space - this corresponds to generating outcome of the random\n",
        "# experiment of rolling a fair die once given that the rolls are known to be even\n",
        "samplesize = 1e05\n",
        "simulatedData = replicate(samplesize, sample(S, size = 1, prob = p))\n",
        "\n",
        "checkEvent = function(data){\n",
        "  # Check if roll is greater than or equal to 3\n",
        "  if (data >= 3){    \n",
        "    return(1)\n",
        "  }\n",
        "  else{\n",
        "    return(0)\n",
        "  }\n",
        "}\n",
        "\n",
        "approximate_probability = sum(apply(as.matrix(simulatedData), 1, checkEvent)) / samplesize\n",
        "cat(\"Approximate probability of getting a number >=3 given that the rolls are even is \", approximate_probability, '\\n')"
      ],
      "execution_count": null,
      "outputs": []
    },
    {
      "cell_type": "markdown",
      "metadata": {
        "id": "zH2IGMI_7srz"
      },
      "source": [
        "Below are relevant functions in R for a binomial RV $X\\sim\\text{Bin}(n,p)$:\r\n",
        "\r\n",
        "* dbinom(j, size=n, prob=p): compute $\\text{P}(X=j)$;\r\n",
        "* pbinom(j, size=n, prob=p): compute $\\text{P}(X<=j)$;\r\n",
        "* pbinom(j, size=n, prob=p, lower.tail = False): compute $\\text{P}(X>=j)$;\r\n",
        "* qbinom(q, size=n, prob=p): find the smallest j satisfying $\\text{P}(X\\leq j)=q$;\r\n",
        "* rbinom(samplesize, size=n, prob=p): generate $samplesize$ independent random values of $X$."
      ]
    },
    {
      "cell_type": "markdown",
      "metadata": {
        "id": "XwLhSzphfFUd"
      },
      "source": [
        "Binomial random variable with parameters n = 12 (no. of trials) and p = 0.2 (success probability). We want to calculate P(X=4)\r\n",
        "$$X\\sim\\text{Bin}(n=12, p =0.2)$$"
      ]
    },
    {
      "cell_type": "code",
      "metadata": {
        "id": "ps6QxYC46zWy",
        "colab": {
          "base_uri": "https://localhost:8080/",
          "height": 34
        },
        "outputId": "d4866450-b498-4dcb-b8f8-d349de4c9fd9"
      },
      "source": [
        "n = 12\r\n",
        "p = 0.2\r\n",
        "j = 4 # number os successes is random\r\n",
        "dbinom(j, n, p) # P(X=4)"
      ],
      "execution_count": null,
      "outputs": [
        {
          "output_type": "display_data",
          "data": {
            "text/plain": [
              "[1] 0.1328756"
            ],
            "text/latex": "0.13287555072",
            "text/markdown": "0.13287555072",
            "text/html": [
              "0.13287555072"
            ]
          },
          "metadata": {
            "tags": []
          }
        }
      ]
    },
    {
      "cell_type": "code",
      "metadata": {
        "id": "Rkfvo51w8ZQ2",
        "colab": {
          "base_uri": "https://localhost:8080/",
          "height": 51
        },
        "outputId": "96dc8c78-f17c-41a0-a1a8-baf338f5eb0b"
      },
      "source": [
        "# What about P(X<=4)?\r\n",
        "n = 12\r\n",
        "p = 0.2\r\n",
        "j = 4\r\n",
        "pbinom(j, n, p)\r\n",
        "dbinom(0, n, p)+dbinom(1, n, p)+dbinom(2, n, p)+dbinom(3, n, p)+dbinom(4, n, p)"
      ],
      "execution_count": null,
      "outputs": [
        {
          "output_type": "display_data",
          "data": {
            "text/plain": [
              "[1] 0.9274445"
            ],
            "text/latex": "0.92744450048",
            "text/markdown": "0.92744450048",
            "text/html": [
              "0.92744450048"
            ]
          },
          "metadata": {
            "tags": []
          }
        },
        {
          "output_type": "display_data",
          "data": {
            "text/plain": [
              "[1] 0.9274445"
            ],
            "text/latex": "0.92744450048",
            "text/markdown": "0.92744450048",
            "text/html": [
              "0.92744450048"
            ]
          },
          "metadata": {
            "tags": []
          }
        }
      ]
    },
    {
      "cell_type": "code",
      "metadata": {
        "id": "WM40pw7i8cap",
        "colab": {
          "base_uri": "https://localhost:8080/",
          "height": 51
        },
        "outputId": "813cfac0-e05b-4df2-e00d-2df365b782b3"
      },
      "source": [
        "# What about P(3<=X<=5)?\r\n",
        "dbinom(3, n, p)+dbinom(4, n, p)+dbinom(5, n, p)\r\n",
        "pbinom(5, n, p)-pbinom(2, n, p) # [P(X=0) + P(X=1)+ P(X=2)+ P(X=3) + P(X=4) + P(X=5)]-[P(X=0) + P(X=1)+ P(X=2)]"
      ],
      "execution_count": null,
      "outputs": [
        {
          "output_type": "display_data",
          "data": {
            "text/plain": [
              "[1] 0.422249"
            ],
            "text/latex": "0.422248972288",
            "text/markdown": "0.422248972288",
            "text/html": [
              "0.422248972288"
            ]
          },
          "metadata": {
            "tags": []
          }
        },
        {
          "output_type": "display_data",
          "data": {
            "text/plain": [
              "[1] 0.422249"
            ],
            "text/latex": "0.422248972288",
            "text/markdown": "0.422248972288",
            "text/html": [
              "0.422248972288"
            ]
          },
          "metadata": {
            "tags": []
          }
        }
      ]
    },
    {
      "cell_type": "markdown",
      "metadata": {
        "id": "1sT8qgivgNaH"
      },
      "source": [
        "Simulate a binomial random variable $X\\sim\\text{Bin}(n=12, p =0.2)$ and calculate $P(X=4).$\r\n",
        "\r\n",
        "Each simulation results in a certain number of success in $n$ trials with success probability equal to $p$ in each trial."
      ]
    },
    {
      "cell_type": "code",
      "metadata": {
        "id": "CKvbzSVNNLLI",
        "colab": {
          "base_uri": "https://localhost:8080/",
          "height": 34
        },
        "outputId": "33abae93-7ff6-4946-9b9a-64ff398b2c27"
      },
      "source": [
        "samplesize = 1e06\r\n",
        "n = 12\r\n",
        "p = 0.2\r\n",
        "simulatedData = rbinom(samplesize, n, p)\r\n",
        "sum(simulatedData == 4) / samplesize # Monte Carlo approximation for P(X=4)"
      ],
      "execution_count": null,
      "outputs": [
        {
          "output_type": "display_data",
          "data": {
            "text/plain": [
              "[1] 0.133351"
            ],
            "text/latex": "0.133351",
            "text/markdown": "0.133351",
            "text/html": [
              "0.133351"
            ]
          },
          "metadata": {
            "tags": []
          }
        }
      ]
    },
    {
      "cell_type": "markdown",
      "metadata": {
        "id": "KCZUWGaqkF4D"
      },
      "source": [
        "Simulate 10000 samples of binomial random variable with parameters n = 12, p = 0.2"
      ]
    },
    {
      "cell_type": "code",
      "metadata": {
        "id": "tWo3iI_s8fVM",
        "colab": {
          "base_uri": "https://localhost:8080/",
          "height": 680
        },
        "outputId": "3cdf467a-6532-4f48-e8aa-aec3c7b6a8b8"
      },
      "source": [
        "n = 12\r\n",
        "p = 0.2\r\n",
        "samplesize = 1e06\r\n",
        "simulatedData = rbinom(samplesize, n, p)\r\n",
        "dfBinom = as.data.frame(simulatedData)\r\n",
        "colnames(dfBinom) = c('Output')\r\n",
        "head(dfBinom, 5)\r\n",
        "p1 = ggplot(data = dfBinom, aes(x = factor(Output))) +\r\n",
        "  geom_bar(stat = 'count', width = 0.7, fill = 'steelblue')+\r\n",
        "  theme(axis.text = element_text(size = 12),\r\n",
        "  axis.text.x = element_text(size = 14),\r\n",
        "  axis.text.y = element_text(size = 14),\r\n",
        "  axis.title =element_text(size = 14, face = \"bold\"))\r\n",
        "p1  \r\n",
        "sum(simulatedData==0)\r\n",
        "mean(simulatedData==0)\r\n",
        "dbinom(0, n, p)"
      ],
      "execution_count": null,
      "outputs": [
        {
          "output_type": "display_data",
          "data": {
            "text/plain": [
              "  Output\n",
              "1 1     \n",
              "2 5     \n",
              "3 2     \n",
              "4 4     \n",
              "5 3     "
            ],
            "text/latex": "A data.frame: 5 × 1\n\\begin{tabular}{r|l}\n  & Output\\\\\n  & <int>\\\\\n\\hline\n\t1 & 1\\\\\n\t2 & 5\\\\\n\t3 & 2\\\\\n\t4 & 4\\\\\n\t5 & 3\\\\\n\\end{tabular}\n",
            "text/markdown": "\nA data.frame: 5 × 1\n\n| <!--/--> | Output &lt;int&gt; |\n|---|---|\n| 1 | 1 |\n| 2 | 5 |\n| 3 | 2 |\n| 4 | 4 |\n| 5 | 3 |\n\n",
            "text/html": [
              "<table>\n",
              "<caption>A data.frame: 5 × 1</caption>\n",
              "<thead>\n",
              "\t<tr><th></th><th scope=col>Output</th></tr>\n",
              "\t<tr><th></th><th scope=col>&lt;int&gt;</th></tr>\n",
              "</thead>\n",
              "<tbody>\n",
              "\t<tr><th scope=row>1</th><td>1</td></tr>\n",
              "\t<tr><th scope=row>2</th><td>5</td></tr>\n",
              "\t<tr><th scope=row>3</th><td>2</td></tr>\n",
              "\t<tr><th scope=row>4</th><td>4</td></tr>\n",
              "\t<tr><th scope=row>5</th><td>3</td></tr>\n",
              "</tbody>\n",
              "</table>\n"
            ]
          },
          "metadata": {
            "tags": []
          }
        },
        {
          "output_type": "display_data",
          "data": {
            "text/plain": [
              "[1] 68828"
            ],
            "text/latex": "68828",
            "text/markdown": "68828",
            "text/html": [
              "68828"
            ]
          },
          "metadata": {
            "tags": []
          }
        },
        {
          "output_type": "display_data",
          "data": {
            "text/plain": [
              "[1] 0.068828"
            ],
            "text/latex": "0.068828",
            "text/markdown": "0.068828",
            "text/html": [
              "0.068828"
            ]
          },
          "metadata": {
            "tags": []
          }
        },
        {
          "output_type": "display_data",
          "data": {
            "text/plain": [
              "[1] 0.06871948"
            ],
            "text/latex": "0.068719476736",
            "text/markdown": "0.068719476736",
            "text/html": [
              "0.068719476736"
            ]
          },
          "metadata": {
            "tags": []
          }
        },
        {
          "output_type": "display_data",
          "data": {
            "image/png": "[encoded data removed]",
            "text/plain": [
              "plot without title"
            ]
          },
          "metadata": {
            "tags": [],
            "image/png": {
              "width": 420,
              "height": 420
            }
          }
        }
      ]
    },
    {
      "cell_type": "markdown",
      "metadata": {
        "id": "U0cv2chKlXvn"
      },
      "source": [
        "Plot the Probability Mass Function (PMF) of a binomial random variable with parameters n=12 and p=0.2.\r\n",
        "\r\n",
        "$$X\\sim\\text{Bin}(n=12, p =0.2).$$\r\n",
        "\r\n",
        "$$\\underbrace{P_X}_\\text{function name}\\left(\\underbrace{j}_{\\text{input}}\\right) = \\underbrace{P(X=j)}_\\text{output}.$$\r\n"
      ]
    },
    {
      "cell_type": "code",
      "metadata": {
        "id": "G4T-VvvY-Ey0",
        "colab": {
          "base_uri": "https://localhost:8080/",
          "height": 437
        },
        "outputId": "2d4b7969-9d6d-4ad6-9b32-2660f831dd2c"
      },
      "source": [
        "n = 12\r\n",
        "p = 0.2\r\n",
        "j = c(0:n)\r\n",
        "dfBinom = as.data.frame(cbind(j, dbinom(j, n, p)))\r\n",
        "colnames(dfBinom) = c('j', 'Prob')\r\n",
        "p1 = ggplot(data = dfBinom, aes(x = j, y = Prob)) +\r\n",
        "  geom_point(size = 5) +\r\n",
        "  scale_x_continuous(breaks = seq(0, n, by = 1)) +\r\n",
        "  theme(axis.text = element_text(size = 12),\r\n",
        "  axis.text.x = element_text(size = 14),\r\n",
        "  axis.text.y = element_text(size = 14),\r\n",
        "  axis.title = element_text(size = 14, face = \"bold\"))\r\n",
        "p1"
      ],
      "execution_count": null,
      "outputs": [
        {
          "output_type": "display_data",
          "data": {
            "image/png": "[encoded data removed]",
            "text/plain": [
              "plot without title"
            ]
          },
          "metadata": {
            "tags": [],
            "image/png": {
              "width": 420,
              "height": 420
            }
          }
        }
      ]
    },
    {
      "cell_type": "markdown",
      "metadata": {
        "id": "DdGO49XEooIs"
      },
      "source": [
        "Plot the Cumulative Distribution Function (CDF) of a binomial random variable with parameters n=12 and p=0.2.\r\n",
        "\r\n",
        "$$X\\sim\\text{Bin}(n=12, p =0.2).$$\r\n",
        "\r\n",
        "$$\\underbrace{F_X}_\\text{function name}\\left(\\underbrace{j}_{\\text{input}}\\right) = \\underbrace{P(X\\leq j)}_\\text{output}.$$\r\n"
      ]
    },
    {
      "cell_type": "code",
      "metadata": {
        "id": "BO-cTDy6MJBA",
        "colab": {
          "base_uri": "https://localhost:8080/",
          "height": 437
        },
        "outputId": "5a75fba7-3862-47b7-e4a3-2df51b152cf7"
      },
      "source": [
        "# Plot the Cumuluative Distribution Function (CDF) of a\r\n",
        "# binomial random variable with parameters n=12 and p=0.2\r\n",
        "# assign the probabilities\r\n",
        "n = 12\r\n",
        "p = 0.2\r\n",
        "j = 0:n\r\n",
        "df = as.data.frame(cbind(j, pbinom(j, n, p)))\r\n",
        "colnames(df) = c('j', 'CProb')\r\n",
        "p1 = ggplot(data = df, aes(x = j, y = CProb)) +\r\n",
        "  geom_point(size = 5) +\r\n",
        "  scale_x_continuous(breaks = seq(0, n, by = 1)) +\r\n",
        "  theme(axis.text = element_text(size = 12),\r\n",
        "  axis.text.x = element_text(size = 14),\r\n",
        "  axis.text.y = element_text(size = 14),\r\n",
        "  axis.title =element_text(size = 14, face = \"bold\"))\r\n",
        "p1"
      ],
      "execution_count": null,
      "outputs": [
        {
          "output_type": "display_data",
          "data": {
            "image/png": "[encoded data removed]",
            "text/plain": [
              "plot without title"
            ]
          },
          "metadata": {
            "tags": [],
            "image/png": {
              "width": 420,
              "height": 420
            }
          }
        }
      ]
    },
    {
      "cell_type": "markdown",
      "metadata": {
        "id": "ElBZVZ6Up6c-"
      },
      "source": [
        "Simulate 10000 samples of binomial random variable with parameters n = 1, p = 0.2:\r\n",
        "$$X\\sim\\text{Bin}(n=1, p=0.2)\\Rightarrow X\\sim\\text{Bernoulli}(p=0.2).$$\r\n",
        "$X$ counts the number of successes in 1 trial."
      ]
    },
    {
      "cell_type": "code",
      "metadata": {
        "id": "nWFZBZzEQoc_",
        "colab": {
          "base_uri": "https://localhost:8080/",
          "height": 628
        },
        "outputId": "a4b20c3b-2dab-455e-f9d4-d83e13516c95"
      },
      "source": [
        "n = 1\r\n",
        "p = 0.2\r\n",
        "samplesize = 10000\r\n",
        "simulatedData = rbinom(samplesize, n, p)\r\n",
        "dfBernoulli = as.data.frame(simulatedData)\r\n",
        "colnames(dfBernoulli) = c('Output')\r\n",
        "head(dfBernoulli, 5)\r\n",
        "p1 = ggplot(data = dfBernoulli, aes(x = factor(Output))) +\r\n",
        "  geom_bar(stat = 'count', width = 0.7, fill = 'steelblue')+\r\n",
        "  theme(axis.text = element_text(size = 12),\r\n",
        "  axis.text.x = element_text(size = 14),\r\n",
        "  axis.text.y = element_text(size = 14),\r\n",
        "  axis.title =element_text(size = 14, face = \"bold\"))\r\n",
        "p1  "
      ],
      "execution_count": null,
      "outputs": [
        {
          "output_type": "display_data",
          "data": {
            "text/plain": [
              "  Output\n",
              "1 1     \n",
              "2 0     \n",
              "3 0     \n",
              "4 0     \n",
              "5 0     "
            ],
            "text/latex": "A data.frame: 5 × 1\n\\begin{tabular}{r|l}\n  & Output\\\\\n  & <int>\\\\\n\\hline\n\t1 & 1\\\\\n\t2 & 0\\\\\n\t3 & 0\\\\\n\t4 & 0\\\\\n\t5 & 0\\\\\n\\end{tabular}\n",
            "text/markdown": "\nA data.frame: 5 × 1\n\n| <!--/--> | Output &lt;int&gt; |\n|---|---|\n| 1 | 1 |\n| 2 | 0 |\n| 3 | 0 |\n| 4 | 0 |\n| 5 | 0 |\n\n",
            "text/html": [
              "<table>\n",
              "<caption>A data.frame: 5 × 1</caption>\n",
              "<thead>\n",
              "\t<tr><th></th><th scope=col>Output</th></tr>\n",
              "\t<tr><th></th><th scope=col>&lt;int&gt;</th></tr>\n",
              "</thead>\n",
              "<tbody>\n",
              "\t<tr><th scope=row>1</th><td>1</td></tr>\n",
              "\t<tr><th scope=row>2</th><td>0</td></tr>\n",
              "\t<tr><th scope=row>3</th><td>0</td></tr>\n",
              "\t<tr><th scope=row>4</th><td>0</td></tr>\n",
              "\t<tr><th scope=row>5</th><td>0</td></tr>\n",
              "</tbody>\n",
              "</table>\n"
            ]
          },
          "metadata": {
            "tags": []
          }
        },
        {
          "output_type": "display_data",
          "data": {
            "image/png": "[encoded data removed]",
            "text/plain": [
              "plot without title"
            ]
          },
          "metadata": {
            "tags": [],
            "image/png": {
              "width": 420,
              "height": 420
            }
          }
        }
      ]
    },
    {
      "cell_type": "markdown",
      "metadata": {
        "id": "os7CK2KHSQ8Q"
      },
      "source": [
        "Expected value of a Binomial random variable $X~\\sim\\text{Bin}(n = 12, p = 0.2)$ using simulation"
      ]
    },
    {
      "cell_type": "code",
      "metadata": {
        "id": "b6-a_d14SZyv",
        "colab": {
          "base_uri": "https://localhost:8080/",
          "height": 34
        },
        "outputId": "a338a525-8288-4532-8a93-beb4d447663d"
      },
      "source": [
        "n = 12\r\n",
        "p = 0.2\r\n",
        "samplesize = 1e6\r\n",
        "simulatedData = rbinom(samplesize, n, p)\r\n",
        "#simulatedData\r\n",
        "mean(simulatedData)"
      ],
      "execution_count": null,
      "outputs": [
        {
          "output_type": "display_data",
          "data": {
            "text/plain": [
              "[1] 2.398159"
            ],
            "text/latex": "2.398159",
            "text/markdown": "2.398159",
            "text/html": [
              "2.398159"
            ]
          },
          "metadata": {
            "tags": []
          }
        }
      ]
    },
    {
      "cell_type": "markdown",
      "metadata": {
        "id": "Q-b8y3QQsGvN"
      },
      "source": [
        "Expected value of a Binomial random variable $X~\\sim\\text{Bin}(n = 12, p = 0.8)$ using simulation"
      ]
    },
    {
      "cell_type": "code",
      "metadata": {
        "colab": {
          "base_uri": "https://localhost:8080/",
          "height": 35
        },
        "id": "NAJG8PZ0sFxh",
        "outputId": "fceaa685-1c88-4258-f3be-336a0e987b8a"
      },
      "source": [
        "n = 12\r\n",
        "p = 0.8\r\n",
        "samplesize = 1e6\r\n",
        "simulatedData = rbinom(samplesize, n, p)\r\n",
        "#simulatedData\r\n",
        "mean(simulatedData)"
      ],
      "execution_count": null,
      "outputs": [
        {
          "output_type": "display_data",
          "data": {
            "text/plain": [
              "[1] 9.600689"
            ],
            "text/latex": "9.600689",
            "text/markdown": "9.600689",
            "text/html": [
              "9.600689"
            ]
          },
          "metadata": {
            "tags": []
          }
        }
      ]
    },
    {
      "cell_type": "markdown",
      "metadata": {
        "id": "VgW3Kj-7RePA"
      },
      "source": [
        "Expected value of a Binomial random variable $X~\\sim\\text{Bin}(n = 12, p = 0.2)$ using theoretical probabilities is:\r\n",
        "\r\n",
        "$\\begin{align*}E[X] &= \\sum_x x\\times P_X(x)\\end{align*}.$\r\n",
        "\r\n",
        "Note that the lower case $x$ is a dummy index variable which can be replaced with say $j$:\r\n",
        "\r\n",
        "$\\begin{align*}E[X] &= \\sum_j j\\times P_X(j)\\\\&= 0\\times P(X=0)+1\\times P(X=1)+\\cdots+12\\times P(X=12)\\\\&\\approx 0\\times\\frac{n_0}{\\text{nsamples}}+1\\times\\frac{n_1}{\\text{nsamples}} +\\cdots+12\\times\\frac{n_{12}}{\\text{nsamples}}\\\\&=\\text{sum of simulated values of }X/\\text{nsamples}.\\end{align*}.$"
      ]
    },
    {
      "cell_type": "code",
      "metadata": {
        "id": "8STzFzBDRtI0",
        "colab": {
          "base_uri": "https://localhost:8080/",
          "height": 34
        },
        "outputId": "1ddfa935-db38-4192-afcc-0d768d6afba1"
      },
      "source": [
        "n = 12\r\n",
        "p = 0.2\r\n",
        "j = c(0:n)\r\n",
        "sum(j * dbinom(j, n, p))"
      ],
      "execution_count": null,
      "outputs": [
        {
          "output_type": "display_data",
          "data": {
            "text/plain": [
              "[1] 2.4"
            ],
            "text/latex": "2.4",
            "text/markdown": "2.4",
            "text/html": [
              "2.4"
            ]
          },
          "metadata": {
            "tags": []
          }
        }
      ]
    },
    {
      "cell_type": "markdown",
      "metadata": {
        "id": "6GIShib-StXc"
      },
      "source": [
        "Variance of a Binomial random variable $X~\\sim\\text{Bin}(n = 12, p = 0.2)$ using simulation"
      ]
    },
    {
      "cell_type": "code",
      "metadata": {
        "id": "HUl0ZKj9S2_H",
        "colab": {
          "base_uri": "https://localhost:8080/"
        },
        "outputId": "8a8f47cd-1ba2-4618-9c2a-37d52d1a49e0"
      },
      "source": [
        "n = 12\r\n",
        "p = 0.2\r\n",
        "samplesize = 1e01\r\n",
        "simulatedData = rbinom(samplesize, n, p)\r\n",
        "print(simulatedData)\r\n",
        "simulatedMean = mean(simulatedData)\r\n",
        "print(simulatedMean)\r\n",
        "simulatedDeviation = simulatedData -  simulatedMean\r\n",
        "print(simulatedDeviation)\r\n",
        "simulatedSqDeviation = simulatedDeviation^2\r\n",
        "print(simulatedSqDeviation)\r\n",
        "meanSimulatedSqDeviation = mean(simulatedSqDeviation)\r\n",
        "print(meanSimulatedSqDeviation) # Variance of the random variable\r\n",
        "print(mean((simulatedData - mean(simulatedData))^2)) # Variance of the random variable\r\n",
        "print(sqrt(mean((simulatedData - mean(simulatedData))^2))) # Standard deviation of the random variable"
      ],
      "execution_count": null,
      "outputs": [
        {
          "output_type": "stream",
          "text": [
            " [1] 2 1 2 2 1 1 5 1 4 2\n",
            "[1] 2.1\n",
            " [1] -0.1 -1.1 -0.1 -0.1 -1.1 -1.1  2.9 -1.1  1.9 -0.1\n",
            " [1] 0.01 1.21 0.01 0.01 1.21 1.21 8.41 1.21 3.61 0.01\n",
            "[1] 1.69\n",
            "[1] 1.69\n",
            "[1] 1.3\n"
          ],
          "name": "stdout"
        }
      ]
    },
    {
      "cell_type": "markdown",
      "metadata": {
        "id": "OwANEhzkUFz5"
      },
      "source": [
        "Variance of a Binomial random variable $X~\\sim\\text{Bin}(n = 12, p = 0.2)$ using theoretical probabilities is:\r\n",
        "\r\n",
        "$\\begin{align*}\\text{Var}[X] &= E[(X-E[X])^2]\\\\&=\r\n",
        "\\sum_x (x-E[X])^2\\times P_X(x).\\end{align*}$"
      ]
    },
    {
      "cell_type": "code",
      "metadata": {
        "id": "7H-FRGhhUZkC",
        "colab": {
          "base_uri": "https://localhost:8080/"
        },
        "outputId": "b0d78d0f-c32f-43bd-b058-fef9e0683d5f"
      },
      "source": [
        "n = 12\r\n",
        "p = 0.2\r\n",
        "j = c(0:n)\r\n",
        "meanBinom = sum(j * dbinom(j, n, p)) # expected value\r\n",
        "varBinom = sum((j - meanBinom)^2 * dbinom(j, n, p))\r\n",
        "print(meanBinom)\r\n",
        "print(n*p)\r\n",
        "print(varBinom)\r\n",
        "print(n*p*(1-p))"
      ],
      "execution_count": null,
      "outputs": [
        {
          "output_type": "stream",
          "text": [
            "[1] 2.4\n",
            "[1] 2.4\n",
            "[1] 1.92\n",
            "[1] 1.92\n"
          ],
          "name": "stdout"
        }
      ]
    },
    {
      "cell_type": "markdown",
      "metadata": {
        "id": "RAxeLcPRln7I"
      },
      "source": [
        "A person conducting telephone surveys must get 4 more completed surveys before their job is finished. On each randomly dialed number, there is a 90% chance of the participant rejecting the call. What is the probability that the person will finish their job at the 10th call?"
      ]
    },
    {
      "cell_type": "markdown",
      "metadata": {
        "id": "4QdGr44Rmylx"
      },
      "source": [
        "A deck of cards contains 20 cards: 6 red cards and 14 black cards. 5 cards are drawn randomly *without replacement*. What is the probability that exactly 4 red cards are drawn?\r\n",
        "\r\n",
        "$$X\\sim\\text{HypGeom}(n_s = 6, n_f = 14, n = 5)$$\r\n",
        "\r\n",
        "$$P(X=4) = \\frac{n_sC_4\\times n_fC_{5-4}}{(n_s+n_f)C_5}$$"
      ]
    },
    {
      "cell_type": "code",
      "metadata": {
        "colab": {
          "base_uri": "https://localhost:8080/",
          "height": 34
        },
        "id": "HQ938ert1_TG",
        "outputId": "50cbea1b-6860-4265-c76d-25997483270d"
      },
      "source": [
        "n = 5\r\n",
        "ns = 6\r\n",
        "nf = 14\r\n",
        "dhyper(4, ns, nf, n)"
      ],
      "execution_count": null,
      "outputs": [
        {
          "output_type": "display_data",
          "data": {
            "text/plain": [
              "[1] 0.01354489"
            ],
            "text/latex": "0.0135448916408669",
            "text/markdown": "0.0135448916408669",
            "text/html": [
              "0.0135448916408669"
            ]
          },
          "metadata": {
            "tags": []
          }
        }
      ]
    },
    {
      "cell_type": "markdown",
      "metadata": {
        "id": "gr5nX5kpmznu"
      },
      "source": [
        "A deck of cards contains 20 cards: 6 red cards and 14 black cards. 5 cards are drawn randomly *with replacement*. What is the probability that exactly 4 red cards are drawn?\r\n",
        "\r\n",
        "$$X\\sim\\text{Bin}(n = 5, p = 6/20)$$"
      ]
    },
    {
      "cell_type": "code",
      "metadata": {
        "colab": {
          "base_uri": "https://localhost:8080/",
          "height": 34
        },
        "id": "VWgNQZhF0UDl",
        "outputId": "15e3777b-3a64-420d-91f5-8a4350c87054"
      },
      "source": [
        "n = 5\r\n",
        "ns = 6\r\n",
        "nf = 14\r\n",
        "p = ns/(ns+nf)\r\n",
        "dbinom(4, n, p)"
      ],
      "execution_count": null,
      "outputs": [
        {
          "output_type": "display_data",
          "data": {
            "text/plain": [
              "[1] 0.02835"
            ],
            "text/latex": "0.02835",
            "text/markdown": "0.02835",
            "text/html": [
              "0.02835"
            ]
          },
          "metadata": {
            "tags": []
          }
        }
      ]
    },
    {
      "cell_type": "markdown",
      "metadata": {
        "id": "8PzOtyOsoFGx"
      },
      "source": [
        "A small voting district has 1010 female voters and 950 male voters. A random sample of 10 voters is drawn. What is the probability exactly 5 of the voters will be female?\r\n",
        "\r\n",
        "$$X\\sim\\text{HypGeom}(n_s=1010, n_f = 950, n = 10)$$"
      ]
    },
    {
      "cell_type": "code",
      "metadata": {
        "colab": {
          "base_uri": "https://localhost:8080/",
          "height": 51
        },
        "id": "kDBcuMSCnDNE",
        "outputId": "81efe37b-d689-4f88-ef53-5870ce210ef1"
      },
      "source": [
        "dhyper(500, 1010, 950, 1000) # P(X=5)\r\n",
        "dbinom(500, 1000, 1010/(950+1010)) # P(X=5)"
      ],
      "execution_count": null,
      "outputs": [
        {
          "output_type": "display_data",
          "data": {
            "text/plain": [
              "[1] 0.01385106"
            ],
            "text/latex": "0.013851061186096",
            "text/markdown": "0.013851061186096",
            "text/html": [
              "0.013851061186096"
            ]
          },
          "metadata": {
            "tags": []
          }
        },
        {
          "output_type": "display_data",
          "data": {
            "text/plain": [
              "[1] 0.01578503"
            ],
            "text/latex": "0.0157850270745543",
            "text/markdown": "0.0157850270745543",
            "text/html": [
              "0.0157850270745543"
            ]
          },
          "metadata": {
            "tags": []
          }
        }
      ]
    },
    {
      "cell_type": "markdown",
      "metadata": {
        "id": "uWhwTGM5VBpY"
      },
      "source": [
        "There are 40,000 gates on an integrated circuit (IC) chip. If the probability of a gate being defective is 1/100,000, independently of all other gates, what is the probability that exactly 10 gates are defective?"
      ]
    },
    {
      "cell_type": "code",
      "metadata": {
        "colab": {
          "base_uri": "https://localhost:8080/",
          "height": 51
        },
        "id": "V_Tv5wcamDOd",
        "outputId": "5e1a6bb9-49a4-4838-88c3-479155ee2e00"
      },
      "source": [
        "n = 40000\r\n",
        "p = 1/100000 # (ns=1, nf = 100000-1) or (ns = 2, nf = 2(100000-1))\r\n",
        "dbinom(10, n, p)\r\n",
        "dhyper(10, 1, 100000-1, 40000)"
      ],
      "execution_count": null,
      "outputs": [
        {
          "output_type": "display_data",
          "data": {
            "text/plain": [
              "[1] 1.934965e-11"
            ],
            "text/latex": "1.93496462087886e-11",
            "text/markdown": "1.93496462087886e-11",
            "text/html": [
              "1.93496462087886e-11"
            ]
          },
          "metadata": {
            "tags": []
          }
        },
        {
          "output_type": "display_data",
          "data": {
            "text/plain": [
              "[1] 0"
            ],
            "text/latex": "0",
            "text/markdown": "0",
            "text/html": [
              "0"
            ]
          },
          "metadata": {
            "tags": []
          }
        }
      ]
    },
    {
      "cell_type": "markdown",
      "metadata": {
        "id": "pNSobDHAVEiI"
      },
      "source": [
        "Suppose that a batch of 100 items contains 6 that are defective and 94 that are not defective. If a random sample of 10 items is drawn from the batch, what is the probability of finding more than 2 defective items?"
      ]
    },
    {
      "cell_type": "markdown",
      "metadata": {
        "id": "wAdB1H9mVHGW"
      },
      "source": [
        "A purchaser of transistors buys them in lots of 20. It is his policy to randomly inspect 4 components from a lot and to accept the lot only if all 4 are non-defective. If each component in a lot is, independently, defective with probability 0.1, what proportion of lots is rejected?"
      ]
    },
    {
      "cell_type": "markdown",
      "metadata": {
        "id": "mOBxEnpGVJ3_"
      },
      "source": [
        "It is known that diskettes produced by a certain company will be defective with probability .01, independently of each other. The company sells the diskettes in packages of size 10 and offers a money-back guarantee that at most 1 of the 10 diskettes in the package will be defective. The guarantee is that the customer can return the entire package of diskettes if he or she finds more than one defective diskette in it. If someone buys 3 packages, what is the probability that he or she will return exactly 1 of them?"
      ]
    },
    {
      "cell_type": "markdown",
      "metadata": {
        "id": "MzGYL2HHVM9c"
      },
      "source": [
        "In a forest that has 100 tigers, 20 are captured, tagged and released. A few weeks later, a sample of 10 tigers from the forest is captured. What is the probability that at least 5 of those captured tigers are tagged?"
      ]
    },
    {
      "cell_type": "markdown",
      "metadata": {
        "id": "AdjusB7IVR50"
      },
      "source": [
        "At an airport, it is know that approximately 2 out of 10 passengers have a metallic object. If left undetected at the manual security check at the airport entrance,  such a metallic object will raise an alarm when the passenger walks through an automated screening machine. It is considered a security breach when the alarm gets raised 20 times a day. What is the probability of a security breach on a particular day when the 100th passenger walks through the automated screening machine?\r\n",
        "\r\n",
        "$$X\\sim\\text{NegBin}(r = 20, p = 2/10)$$\r\n",
        "\r\n",
        "$$P(X = 100)$$"
      ]
    },
    {
      "cell_type": "code",
      "metadata": {
        "colab": {
          "base_uri": "https://localhost:8080/",
          "height": 34
        },
        "id": "jZl9EkeCXB7h",
        "outputId": "aeca76ab-e2aa-4ffe-8de6-2eaefe810f62"
      },
      "source": [
        "r = 20\r\n",
        "p = 2/10\r\n",
        "dnbinom(10-r, r, p)"
      ],
      "execution_count": null,
      "outputs": [
        {
          "output_type": "display_data",
          "data": {
            "text/plain": [
              "[1] 0.01986004"
            ],
            "text/latex": "0.0198600429617649",
            "text/markdown": "0.0198600429617649",
            "text/html": [
              "0.0198600429617649"
            ]
          },
          "metadata": {
            "tags": []
          }
        }
      ]
    },
    {
      "cell_type": "code",
      "metadata": {
        "colab": {
          "base_uri": "https://localhost:8080/",
          "height": 437
        },
        "id": "lYIYym4cQi-3",
        "outputId": "db5a00c3-2bcc-4976-ba57-3b936227a590"
      },
      "source": [
        "n = 12\r\n",
        "p = 0.5\r\n",
        "samplesize = 1e06\r\n",
        "simulatedData = rbinom(samplesize, n, p)\r\n",
        "dfBinom = as.data.frame(simulatedData)\r\n",
        "colnames(dfBinom) = c('Output')\r\n",
        "p1 = ggplot(data = dfBinom, aes(x = factor(Output))) +\r\n",
        "  geom_bar(stat = 'count', width = 0.7, fill = 'steelblue')+\r\n",
        "  theme(axis.text = element_text(size = 12),\r\n",
        "  axis.text.x = element_text(size = 14),\r\n",
        "  axis.text.y = element_text(size = 14),\r\n",
        "  axis.title =element_text(size = 14, face = \"bold\")) +\r\n",
        "  labs(x = 'j',\r\n",
        "       y = 'Count',\r\n",
        "       title = sprintf('Mean = %f, Median = %f, Variance = %f', mean(simulatedData), median(simulatedData), var(simulatedData)))\r\n",
        "p1 "
      ],
      "execution_count": null,
      "outputs": [
        {
          "output_type": "display_data",
          "data": {
            "image/png": "[encoded data removed]",
            "text/plain": [
              "plot without title"
            ]
          },
          "metadata": {
            "tags": [],
            "image/png": {
              "width": 420,
              "height": 420
            }
          }
        }
      ]
    },
    {
      "cell_type": "code",
      "metadata": {
        "colab": {
          "base_uri": "https://localhost:8080/",
          "height": 437
        },
        "id": "ZWovE2H3g3Pc",
        "outputId": "b17b1a98-91bd-4890-b7b8-7f703a061241"
      },
      "source": [
        "# Plot the Cumuluative Distribution Function (CDF) of a\r\n",
        "# negative binomial random variable with parameters r=1 and p=0.2\r\n",
        "r = 1\r\n",
        "p = 0.2\r\n",
        "j = c(0:(r+20))\r\n",
        "df = as.data.frame(cbind(j, pnbinom(j-r, r, p)))\r\n",
        "colnames(df) = c('j', 'CProb')\r\n",
        "p1 = ggplot(data = df, aes(x = j, y = CProb)) +\r\n",
        "  geom_point(size = 1, color = 'blue') +\r\n",
        "  scale_x_continuous(breaks = seq(r, r+20, by = 2)) +\r\n",
        "  scale_y_continuous(breaks = seq(0, 1, by = 0.1)) +\r\n",
        "  theme(axis.text = element_text(size = 14),\r\n",
        "  axis.text.x = element_text(size = 14),\r\n",
        "  axis.text.y = element_text(size = 14),\r\n",
        "  axis.title =element_text(size = 14, face = \"bold\"))+\r\n",
        "  labs(x = 'j', y = 'Cumulative Probability', title = 'X~NegBin(r = 1, p = 0.2)')\r\n",
        "p1"
      ],
      "execution_count": null,
      "outputs": [
        {
          "output_type": "display_data",
          "data": {
            "image/png": "[encoded data removed]",
            "text/plain": [
              "plot without title"
            ]
          },
          "metadata": {
            "tags": [],
            "image/png": {
              "width": 420,
              "height": 420
            }
          }
        }
      ]
    },
    {
      "cell_type": "code",
      "metadata": {
        "id": "zfK9GY9htZhz"
      },
      "source": [
        ""
      ],
      "execution_count": null,
      "outputs": []
    },
    {
      "cell_type": "markdown",
      "metadata": {
        "id": "2JeWqBHCtamA"
      },
      "source": [
        "Simulate 10000 samples of a Poisson random variable with parameter $\\lambda = 3$.\r\n",
        "\r\n",
        "$$X\\sim\\text{Poi}(\\lambda = 3).$$"
      ]
    },
    {
      "cell_type": "code",
      "metadata": {
        "colab": {
          "base_uri": "https://localhost:8080/",
          "height": 662
        },
        "id": "-V81LHdKtZ18",
        "outputId": "39f4e9eb-9c2b-470a-bd9c-b9738b9a886f"
      },
      "source": [
        "lambda = 3\r\n",
        "samplesize = 1e06\r\n",
        "simulatedData = rpois(samplesize, lambda)\r\n",
        "df = as.data.frame(simulatedData)\r\n",
        "colnames(df) = c('Output')\r\n",
        "head(df, 5)\r\n",
        "p1 = ggplot(data = df, aes(x = factor(Output))) +\r\n",
        "  geom_bar(stat = 'count', width = 0.7, fill = 'steelblue')+\r\n",
        "  theme(axis.text = element_text(size = 12),\r\n",
        "  axis.text.x = element_text(size = 14),\r\n",
        "  axis.text.y = element_text(size = 14),\r\n",
        "  axis.title =element_text(size = 14, face = \"bold\"))\r\n",
        "p1  \r\n",
        "mean(simulatedData)\r\n",
        "median(simulatedData)"
      ],
      "execution_count": null,
      "outputs": [
        {
          "output_type": "display_data",
          "data": {
            "text/plain": [
              "  Output\n",
              "1 2     \n",
              "2 3     \n",
              "3 3     \n",
              "4 7     \n",
              "5 3     "
            ],
            "text/latex": "A data.frame: 5 × 1\n\\begin{tabular}{r|l}\n  & Output\\\\\n  & <int>\\\\\n\\hline\n\t1 & 2\\\\\n\t2 & 3\\\\\n\t3 & 3\\\\\n\t4 & 7\\\\\n\t5 & 3\\\\\n\\end{tabular}\n",
            "text/markdown": "\nA data.frame: 5 × 1\n\n| <!--/--> | Output &lt;int&gt; |\n|---|---|\n| 1 | 2 |\n| 2 | 3 |\n| 3 | 3 |\n| 4 | 7 |\n| 5 | 3 |\n\n",
            "text/html": [
              "<table>\n",
              "<caption>A data.frame: 5 × 1</caption>\n",
              "<thead>\n",
              "\t<tr><th></th><th scope=col>Output</th></tr>\n",
              "\t<tr><th></th><th scope=col>&lt;int&gt;</th></tr>\n",
              "</thead>\n",
              "<tbody>\n",
              "\t<tr><th scope=row>1</th><td>2</td></tr>\n",
              "\t<tr><th scope=row>2</th><td>3</td></tr>\n",
              "\t<tr><th scope=row>3</th><td>3</td></tr>\n",
              "\t<tr><th scope=row>4</th><td>7</td></tr>\n",
              "\t<tr><th scope=row>5</th><td>3</td></tr>\n",
              "</tbody>\n",
              "</table>\n"
            ]
          },
          "metadata": {
            "tags": []
          }
        },
        {
          "output_type": "display_data",
          "data": {
            "text/plain": [
              "[1] 3.001465"
            ],
            "text/latex": "3.001465",
            "text/markdown": "3.001465",
            "text/html": [
              "3.001465"
            ]
          },
          "metadata": {
            "tags": []
          }
        },
        {
          "output_type": "display_data",
          "data": {
            "text/plain": [
              "[1] 3"
            ],
            "text/latex": "3",
            "text/markdown": "3",
            "text/html": [
              "3"
            ]
          },
          "metadata": {
            "tags": []
          }
        },
        {
          "output_type": "display_data",
          "data": {
            "image/png": "[encoded data removed]",
            "text/plain": [
              "plot without title"
            ]
          },
          "metadata": {
            "tags": [],
            "image/png": {
              "width": 420,
              "height": 420
            }
          }
        }
      ]
    },
    {
      "cell_type": "markdown",
      "metadata": {
        "id": "oH86JyWIucEt"
      },
      "source": [
        ""
      ]
    },
    {
      "cell_type": "markdown",
      "metadata": {
        "id": "dLTG-Z45ukzH"
      },
      "source": [
        "Plot the Probability Mass Function (PMF) of a Poisson random variable with parameter $\\lambda = 3.$\r\n",
        "\r\n",
        "$$X\\sim\\text{Pois}(\\lambda = 3).$$\r\n",
        "\r\n",
        "$$\\underbrace{P_X}_\\text{function name}\\left(\\underbrace{j}_{\\text{input}}\\right) = \\underbrace{P(X=j)}_\\text{output}.$$\r\n"
      ]
    },
    {
      "cell_type": "code",
      "metadata": {
        "colab": {
          "base_uri": "https://localhost:8080/",
          "height": 437
        },
        "id": "oPbM7I6HuvdA",
        "outputId": "62db0100-b0c3-4c7a-c637-7e3db1fcc172"
      },
      "source": [
        "lambda = 3\r\n",
        "n = 16\r\n",
        "j = c(0:n)\r\n",
        "df = as.data.frame(cbind(j, dpois(j, lambda)))\r\n",
        "colnames(df) = c('j', 'Prob')\r\n",
        "p1 = ggplot(data = df, aes(x = j, y = Prob)) +\r\n",
        "  geom_point(size = 5) +\r\n",
        "  scale_x_continuous(breaks = seq(0, n, by = 1)) +\r\n",
        "  theme(axis.text = element_text(size = 12),\r\n",
        "  axis.text.x = element_text(size = 14),\r\n",
        "  axis.text.y = element_text(size = 14),\r\n",
        "  axis.title = element_text(size = 14, face = \"bold\"))\r\n",
        "p1"
      ],
      "execution_count": null,
      "outputs": [
        {
          "output_type": "display_data",
          "data": {
            "image/png": "[encoded data removed]",
            "text/plain": [
              "plot without title"
            ]
          },
          "metadata": {
            "tags": [],
            "image/png": {
              "width": 420,
              "height": 420
            }
          }
        }
      ]
    },
    {
      "cell_type": "markdown",
      "metadata": {
        "id": "jtHdBinhoptj"
      },
      "source": [
        "Simulating the height (in cm) of 10000 individuals"
      ]
    },
    {
      "cell_type": "code",
      "metadata": {
        "colab": {
          "base_uri": "https://localhost:8080/",
          "height": 637
        },
        "id": "WFfGhHUhopQI",
        "outputId": "6fe7aa01-2b5e-4f81-bee0-9a07fd93f84e"
      },
      "source": [
        "mu = 170\r\n",
        "sigma = 8\r\n",
        "samplesize = 1e5\r\n",
        "simulatedData = rnorm(samplesize, mean = mu, sd = sigma)\r\n",
        "df = as.data.frame(simulatedData)\r\n",
        "colnames(df) = c('Output')\r\n",
        "head(df, 5)\r\n",
        "p1 = ggplot(data = df, aes(x = Output)) +\r\n",
        "  geom_histogram(aes(y =..density..),\r\n",
        "  breaks = seq(mu-4*sigma, mu+4*sigma, by = 2),\r\n",
        "  colour = \"black\", fill = \"steelblue\") +\r\n",
        "  stat_function(fun = dnorm, args = list(mean = mean(df$Output), sd = sd(df$Output))) +\r\n",
        "  labs(x = 'Height (cm)', y = 'Proportion') +\r\n",
        "  theme(axis.text = element_text(size = 12),\r\n",
        "  axis.text.x = element_text(size = 14),\r\n",
        "  axis.text.y = element_text(size = 14),\r\n",
        "  axis.title =element_text(size = 14, face = \"bold\"))\r\n",
        "p1  "
      ],
      "execution_count": null,
      "outputs": [
        {
          "output_type": "display_data",
          "data": {
            "text/plain": [
              "  Output  \n",
              "1 160.0215\n",
              "2 169.6040\n",
              "3 173.8550\n",
              "4 170.6846\n",
              "5 165.7058"
            ],
            "text/latex": "A data.frame: 5 × 1\n\\begin{tabular}{r|l}\n  & Output\\\\\n  & <dbl>\\\\\n\\hline\n\t1 & 160.0215\\\\\n\t2 & 169.6040\\\\\n\t3 & 173.8550\\\\\n\t4 & 170.6846\\\\\n\t5 & 165.7058\\\\\n\\end{tabular}\n",
            "text/markdown": "\nA data.frame: 5 × 1\n\n| <!--/--> | Output &lt;dbl&gt; |\n|---|---|\n| 1 | 160.0215 |\n| 2 | 169.6040 |\n| 3 | 173.8550 |\n| 4 | 170.6846 |\n| 5 | 165.7058 |\n\n",
            "text/html": [
              "<table>\n",
              "<caption>A data.frame: 5 × 1</caption>\n",
              "<thead>\n",
              "\t<tr><th></th><th scope=col>Output</th></tr>\n",
              "\t<tr><th></th><th scope=col>&lt;dbl&gt;</th></tr>\n",
              "</thead>\n",
              "<tbody>\n",
              "\t<tr><th scope=row>1</th><td>160.0215</td></tr>\n",
              "\t<tr><th scope=row>2</th><td>169.6040</td></tr>\n",
              "\t<tr><th scope=row>3</th><td>173.8550</td></tr>\n",
              "\t<tr><th scope=row>4</th><td>170.6846</td></tr>\n",
              "\t<tr><th scope=row>5</th><td>165.7058</td></tr>\n",
              "</tbody>\n",
              "</table>\n"
            ]
          },
          "metadata": {
            "tags": []
          }
        },
        {
          "output_type": "display_data",
          "data": {
            "image/png": "[encoded data removed]",
            "text/plain": [
              "plot without title"
            ]
          },
          "metadata": {
            "tags": [],
            "image/png": {
              "width": 420,
              "height": 420
            }
          }
        }
      ]
    },
    {
      "cell_type": "code",
      "metadata": {
        "colab": {
          "base_uri": "https://localhost:8080/",
          "height": 437
        },
        "id": "LImPt01ArcXB",
        "outputId": "fd2caaf2-0d4e-4659-db7f-58e22ce0ed47"
      },
      "source": [
        "mu = 170\r\n",
        "sigma = 8\r\n",
        "x = seq(mu-4*sigma, mu+4*sigma, by = (8*sigma)/1000)\r\n",
        "y = dnorm(x = x, mean = mu, sd = sigma)\r\n",
        "\r\n",
        "df = data.frame(x, y)\r\n",
        "p = ggplot(df) +\r\n",
        "  geom_line(aes(x, y)) +\r\n",
        "  geom_ribbon(data = df %>% filter(x >= 175 & x <= 195),  aes(x = x,\r\n",
        "                  ymin = 0, ymax = y), fill = \"blue\") +\r\n",
        "  labs(x = 'x', y = 'f(x)', title = 'Probability Density Function') +\r\n",
        "  theme(axis.text = element_text(size = 12),\r\n",
        "  axis.text.x = element_text(size = 14),\r\n",
        "  axis.text.y = element_text(size = 14),\r\n",
        "  axis.title =element_text(size = 14, face = \"bold\"))\r\n",
        "p  "
      ],
      "execution_count": null,
      "outputs": [
        {
          "output_type": "display_data",
          "data": {
            "image/png": "[encoded data removed]",
            "text/plain": [
              "plot without title"
            ]
          },
          "metadata": {
            "tags": [],
            "image/png": {
              "width": 420,
              "height": 420
            }
          }
        }
      ]
    },
    {
      "cell_type": "code",
      "metadata": {
        "colab": {
          "base_uri": "https://localhost:8080/",
          "height": 51
        },
        "id": "HSUoIv5Kn7uu",
        "outputId": "dc3ef26e-c260-4718-b4d1-1f142ada70cc"
      },
      "source": [
        "mu = 170\r\n",
        "sigma = 8\r\n",
        "dnorm(175, mean = mu, sd = sigma)\r\n",
        "pnorm(195, mean = mu, sd = sigma)-pnorm(175, mean = mu, sd = sigma)"
      ],
      "execution_count": null,
      "outputs": [
        {
          "output_type": "display_data",
          "data": {
            "text/plain": [
              "[1] 0.04102012"
            ],
            "text/latex": "0.0410201210687969",
            "text/markdown": "0.0410201210687969",
            "text/html": [
              "0.0410201210687969"
            ]
          },
          "metadata": {
            "tags": []
          }
        },
        {
          "output_type": "display_data",
          "data": {
            "text/plain": [
              "[1] 0.2650965"
            ],
            "text/latex": "0.265096503749592",
            "text/markdown": "0.265096503749592",
            "text/html": [
              "0.265096503749592"
            ]
          },
          "metadata": {
            "tags": []
          }
        }
      ]
    }
  ]
}