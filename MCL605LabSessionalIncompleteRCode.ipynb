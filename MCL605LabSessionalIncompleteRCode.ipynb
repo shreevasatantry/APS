{
  "nbformat": 4,
  "nbformat_minor": 0,
  "metadata": {
    "kernelspec": {
      "display_name": "R",
      "language": "R",
      "name": "ir"
    },
    "language_info": {
      "codemirror_mode": "r",
      "file_extension": ".r",
      "mimetype": "text/x-r-source",
      "name": "R",
      "pygments_lexer": "r",
      "version": "3.3.1"
    },
    "colab": {
      "name": "MCL605LabSessionalIncompleteRCode.ipynb",
      "provenance": [],
      "collapsed_sections": []
    }
  },
  "cells": [
    {
      "cell_type": "markdown",
      "metadata": {
        "id": "6AleQbzQz6sB"
      },
      "source": [
        "**To determine whether they have bird flu, 50 people have their blood tested. However, rather than testing each individual separately, it is decided to first place the people into groups of 5. The blood samples of the 5 people in each group will be pooled and analyzed together. If the test is negative, one test will suffice for the 5 people, whereas if the test is positive, each of\r\n",
        "the 5 people will also be individually tested and, in all, 6 tests will be made on this group. Note that we assume that the pooled test will be positive if at least one person in the pool has bird flu. Assume that the probability that a person has bird flu is 15% for all people, independently of each other. Let $X_i$ be the random variable representing the number of tests required for $i\\text{-th}$ random group of 5 people, where $i=1,2,\\ldots,10.$ Let $X$ be the random variable representing the number of tests required for all 50 people. Note that $$X = X_1+X_2+\\cdots+X_{10}.$$**"
      ]
    },
    {
      "cell_type": "code",
      "metadata": {
        "id": "dO8c1j8QqPou"
      },
      "source": [
        "library(ggplot2)"
      ],
      "execution_count": null,
      "outputs": []
    },
    {
      "cell_type": "markdown",
      "metadata": {
        "id": "Rku1-WSiswmq"
      },
      "source": [
        "**Question-1**: we want to the calculate the probability that $X_i$ takes a particular value for the $i$th group of 5 people. To this end, we will perform $10^5$ Monte-Carlo simulations for the number of tests required for a group of 5 people."
      ]
    },
    {
      "cell_type": "code",
      "metadata": {
        "id": "9wcRhO8wokXu"
      },
      "source": [
        "## Monte-Carlo simulation for a group of 5 people\r\n",
        "\r\n",
        "# Sampling space for a group of 5 people (0 corresponds to test negative,\r\n",
        "# 1 corresponds to test positive)\r\n",
        "S = c(0, 1)\r\n",
        "\r\n",
        "# Correspnding probabilites for the outcomes in the sampling space\r\n",
        "p = c(?, ?)\r\n",
        "\r\n",
        "samplesize = ?\r\n",
        "\r\n",
        "# Function to simulate how many tests will be needed for a group of 5 people\r\n",
        "testResult = function(){\r\n",
        "  npersons = 5\r\n",
        "  result = sample(?, size = ?, replace = ?, prob = ?)\r\n",
        "  return(ifelse(any(result == ?), 6, ?))\r\n",
        "}\r\n",
        "\r\n",
        "# Generate simulated data\r\n",
        "simulatedData = replicate(?, ?)\r\n",
        "\r\n",
        "#print(simulatedData) # for checking purpose, set samplesize = 10 and uncomment this line\r\n",
        "\r\n",
        "# Print probability values\r\n",
        "table(?) / ?"
      ],
      "execution_count": null,
      "outputs": []
    },
    {
      "cell_type": "markdown",
      "metadata": {
        "id": "m8fSg8U41dT9"
      },
      "source": [
        "**Question-2**: we want a frequency histogram of values that $X_i$ can take."
      ]
    },
    {
      "cell_type": "code",
      "metadata": {
        "id": "IgtyJg10wfjX"
      },
      "source": [
        "# Create dataframe comprising frequency of each possible value\r\n",
        "# that X_i takes\r\n",
        "df= as.data.frame(table(?))\r\n",
        "colnames(df) = c('Value', 'Frequency')\r\n",
        "#print(df)\r\n",
        "\r\n",
        "# Frequency plot\r\n",
        "p = ggplot(data = ?, aes(x = ?, y = ?)) +\r\n",
        "  geom_bar(stat = 'identity', fill = \"steelblue\") +\r\n",
        "  geom_text(aes(label = Frequency), vjust = -0.3, size = 6)+\r\n",
        "  theme(axis.text = element_text(size = 12),\r\n",
        "  axis.text.x = element_text(size = 14),\r\n",
        "  axis.text.y = element_text(size = 14),\r\n",
        "  axis.title = element_text(size = 14, face = \"bold\"))\r\n",
        "\r\n",
        "p"
      ],
      "execution_count": null,
      "outputs": []
    },
    {
      "cell_type": "markdown",
      "metadata": {
        "id": "t53rfo1w1y7r"
      },
      "source": [
        "**Question-3**: we want to the calculate the probability that $X = X_1+X_2+\\cdots+X_{10}$ takes a particular value for a collection of 50 people which includes 10 groups of 5 people each. To this end, we will perform $10^5$ Monte-Carlo simulations for the number of tests required for all 10 groups."
      ]
    },
    {
      "cell_type": "code",
      "metadata": {
        "id": "XDm9H1MaxGH2"
      },
      "source": [
        "## Monte-Carlo simulation for a collection of 50 people \r\n",
        "\r\n",
        "# Sampling space for a group of 5 people (0 corresponds to test negative,\r\n",
        "# 1 corresponds to test positive)\r\n",
        "S = c(0, 1)\r\n",
        "\r\n",
        "# Correspnding probabilites for the outcomes in the sampling space\r\n",
        "p = c(0.85, 0.15)\r\n",
        "\r\n",
        "samplesize = ?\r\n",
        "\r\n",
        "# Simulate how many tests will be needed for all 10 groups of 50 people\r\n",
        "testResult = function(){\r\n",
        "  ngroups = ?\r\n",
        "  npersons = ?\r\n",
        "  result = numeric(?)  \r\n",
        "  for (j in c(1:?)){\r\n",
        "      group_result = sample(?, size = ?, replace = ?, prob = ?)\r\n",
        "      result[j] = ifelse(any(? == 1), ?, ?)      \r\n",
        "      }    \r\n",
        "  return(sum(?))\r\n",
        "}\r\n",
        "\r\n",
        "# Generate simulated data\r\n",
        "simulatedData = replicate(?, ?)\r\n",
        "#print(simulatedData)\r\n",
        "\r\n",
        "# Print probability values\r\n",
        "table(simulatedData) / samplesize\r\n"
      ],
      "execution_count": null,
      "outputs": []
    },
    {
      "cell_type": "markdown",
      "metadata": {
        "id": "BgnMnpyJ3C7E"
      },
      "source": [
        "**Question-2**: we want a frequency histogram of values that $X$ can take."
      ]
    },
    {
      "cell_type": "code",
      "metadata": {
        "id": "rmSgpH76zCpf"
      },
      "source": [
        "# Create dataframe comprising frequency of each possible value\r\n",
        "df= as.data.frame(?(?))\r\n",
        "colnames(df) = c('Value', 'Frequency')\r\n",
        "#print(df)\r\n",
        "\r\n",
        "# Frequency plot\r\n",
        "p = ggplot(data = df, aes(x = Value, y = Frequency)) +\r\n",
        "  geom_bar(stat = 'identity', fill = \"steelblue\") +\r\n",
        "  geom_text(aes(label = ?), vjust = -0.3, size = 6)+\r\n",
        "  theme(axis.text = element_text(size = 12),\r\n",
        "  axis.text.x = element_text(size = 14),\r\n",
        "  axis.text.y = element_text(size = 14),\r\n",
        "  axis.title = element_text(size = 14, face = \"bold\"))\r\n",
        "\r\n",
        "p"
      ],
      "execution_count": null,
      "outputs": []
    },
    {
      "cell_type": "markdown",
      "metadata": {
        "id": "-8WhSz7c3JgC"
      },
      "source": [
        "**Question-5**: we want the mean and median number of tests required for all 50 people. Which one is greater? How does this relate to the shape of the histogram in the previous part?"
      ]
    },
    {
      "cell_type": "code",
      "metadata": {
        "id": "Ipv-VC90zk3e"
      },
      "source": [
        "# Mean number of tests needed\r\n",
        "?(simulatedData)\r\n",
        "\r\n",
        "# Median number of tests needed\r\n",
        "?(simulatedData)"
      ],
      "execution_count": null,
      "outputs": []
    }
  ]
}