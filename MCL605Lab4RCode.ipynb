{
  "nbformat": 4,
  "nbformat_minor": 0,
  "metadata": {
    "kernelspec": {
      "display_name": "R",
      "language": "R",
      "name": "ir"
    },
    "language_info": {
      "codemirror_mode": "r",
      "file_extension": ".r",
      "mimetype": "text/x-r-source",
      "name": "R",
      "pygments_lexer": "r",
      "version": "3.3.1"
    },
    "colab": {
      "name": "MCL605Lab4RCode.ipynb",
      "provenance": [],
      "collapsed_sections": []
    }
  },
  "cells": [
    {
      "cell_type": "code",
      "metadata": {
        "id": "IN2DOUZ616vx"
      },
      "source": [
        "# Include the ggplot plotting library\n",
        "library(ggplot2)"
      ],
      "execution_count": 12,
      "outputs": []
    },
    {
      "cell_type": "code",
      "metadata": {
        "id": "fo7ybUSTRE9L",
        "outputId": "3db532f6-0a1b-49b0-9db6-36803c9ad804",
        "colab": {
          "base_uri": "https://localhost:8080/",
          "height": 437
        }
      },
      "source": [
        "# Probability from a frequency perspective (Monte-Carlo Simulation)\n",
        "\n",
        "# Sampling- (as well as sample-) space for a single fair-coin toss\n",
        "S = c('H', 'T')\n",
        "\n",
        "# Assign probabilities to outcomes based on intuition\n",
        "p = c(0.5, 0.5)\n",
        "\n",
        "# Samples representing outcomes of the experiment of selecting 1 object from\n",
        "# the sampling space with replacement - this corresponds to generating outcomes\n",
        "# of the random experiment of tossing a single fair coin\n",
        "#set.seed(1)\n",
        "samplesize = 1e04\n",
        "simulatedData = sample(S, size = samplesize, replace = TRUE, prob = p)\n",
        "#print(simulatedData)\n",
        "# Create dataframe comprising frequency of each possible outcome in the sample space\n",
        "df= as.data.frame(table(simulatedData))\n",
        "colnames(df) = c('Toss', 'Frequency')\n",
        "#print(table(simulatedData))\n",
        "#print(df)\n",
        "\n",
        "# Frequency plot\n",
        "p = ggplot(data = df, aes(x = Toss, y = Frequency)) +\n",
        "  geom_bar(stat = 'identity', fill=\"steelblue\") +\n",
        "  geom_text(aes(label = Frequency), vjust = -0.3, size = 6) +\n",
        "  theme_minimal()\n",
        "\n",
        "p  "
      ],
      "execution_count": 13,
      "outputs": [
        {
          "output_type": "display_data",
          "data": {
            "image/png": "[encoded data removed]",
            "text/plain": [
              "plot without title"
            ]
          },
          "metadata": {
            "tags": [],
            "image/png": {
              "width": 420,
              "height": 420
            }
          }
        }
      ]
    },
    {
      "cell_type": "code",
      "metadata": {
        "id": "yZ6oRuQ146Rj",
        "outputId": "f3c7728e-bf18-48d5-b870-a4e903a6a565",
        "colab": {
          "base_uri": "https://localhost:8080/"
        }
      },
      "source": [
        "# Scenario: toss two fair-coins. What is the probability that heads\n",
        "# shows up exactly once.\n",
        "\n",
        "# Theoretical approach: \n",
        "# Step-1: sample space S = {'HH', 'HT', 'TH', 'TT'}\n",
        "# Step-2: are the outcomes in the sample space equally likely? yes.\n",
        "# Step-3: event E = {'HT', 'TH'}\n",
        "# Step-4: p(E) = n(E)/n = 2/4 = 1/2 = 0.5\n",
        "\n",
        "# Monte-Carlo Simulation:\n",
        "# Perform the experiment of tossing two-fair coins a large number of times\n",
        "# and see what fraction of times heads shows up exactly once. We do this by\n",
        "# simulating the outcomes in the sample space (tossing two fair-coins) by using \n",
        "# a much simpler sampling space (tossing one fair-coin).\n",
        "\n",
        "# Monte-Carlo simulation based directly on the theoretical sample space\n",
        "# corresponding to tossing two fair coins once)\n",
        "S = c('HH', 'HT', 'TH', 'TT')\n",
        "\n",
        "# Assign probabilities\n",
        "p = c(1/4, 1/4, 1/4, 1/4)\n",
        "\n",
        "# Compute approximate probability as exercise\n",
        "\n",
        "# Monte-Carlo simulation based on a simpler sampling space corresponding to the\n",
        "# random experiment of tossing a single fair-coin \n",
        "S = c('H', 'T')\n",
        "\n",
        "# Assign probabilities to outcomes based on intuition\n",
        "p = c(0.5, 0.5)\n",
        "\n",
        "# Samples representing outcomes of the experiment of selecting 1 object from\n",
        "# the sampling space with replacement - this corresponds to generating outcomes\n",
        "# of the random experiment of tossing two fair coins once\n",
        "samplesize = 1e04\n",
        "simulatedData = replicate(samplesize, sample(S, size = 2, replace = TRUE, prob = p))\n",
        "#print(simulatedData)\n",
        "\n",
        "# Function to check if heads appears exactly once \n",
        "checkEvent = function(coindata){\n",
        "  if (length(unique(coindata)) == 2){\n",
        "    return(1)\n",
        "  }\n",
        "  else{\n",
        "    return(0)\n",
        "  }\n",
        "}\n",
        "\n",
        "# Calculate approximate probability of heads appearing exactly twice\n",
        "approximate_probability = sum(apply(simulatedData, 2, checkEvent)) / samplesize\n",
        "print(approximate_probability)"
      ],
      "execution_count": 21,
      "outputs": [
        {
          "output_type": "stream",
          "text": [
            "[1] 0.501\n"
          ],
          "name": "stdout"
        }
      ]
    },
    {
      "cell_type": "code",
      "metadata": {
        "id": "ZIUZ-hTK-7vq",
        "outputId": "23207ee1-dee8-4bca-fbb7-386f785a25f9",
        "colab": {
          "base_uri": "https://localhost:8080/",
          "height": 34
        }
      },
      "source": [
        "somearray = c('copper', 'silver', 'copper', 'gold', 'gold', 'silver', 'platinum')\n",
        "length(unique(somearray)) # number of unique elements"
      ],
      "execution_count": 22,
      "outputs": [
        {
          "output_type": "display_data",
          "data": {
            "text/plain": [
              "[1] 4"
            ],
            "text/latex": "4",
            "text/markdown": "4",
            "text/html": [
              "4"
            ]
          },
          "metadata": {
            "tags": []
          }
        }
      ]
    },
    {
      "cell_type": "code",
      "metadata": {
        "id": "5qcAyEsSEh0_",
        "outputId": "a056c650-0307-4525-f2db-e8501dce4cd7",
        "colab": {
          "base_uri": "https://localhost:8080/"
        }
      },
      "source": [
        "# Scenario: we can get 3 scoops on a cone. There are 10 different flavors.\n",
        "# What is the probability that we get three different flavors on the cone.\n",
        "\n",
        "# Theoretical approach: \n",
        "# Step-1: sample space S = {'(vanilla, pista, strawberry)', '(vanilla, vanilla, pista)',\n",
        "#                           '(vanilla, pista, vanilla)', ...............}\n",
        "# We have a sample space where we sample with replacement from the set of 10 flavors\n",
        "# F = {'vanilla', 'pista', 'strawberry',.........} with order matters.\n",
        "# Step-2: are the outcomes in the sample space equally likely? yes.\n",
        "# Step-3: event E = {'(vanilla, pista, strawberry)', '(vanilla, strawberry, pista),...'}\n",
        "# Step-4: p(E) = n(E)/n = (10P3)/(10^3) = (choose(10, 3)*factorial(3)) / (10^3) = 0.72\n",
        "\n",
        "# Monte-Carlo simulation based on a simpler sampling space corresponding to the\n",
        "# random experiment of choosing a flavor from 10 flavors\n",
        "S = c('vanilla', 'pista', 'strawberry', 'chocolate', 'blackberry',\n",
        " 'blueberry', 'mango', 'sitaphal', 'chickoo', 'jack fruit')\n",
        "\n",
        "# Corresponding probabilities\n",
        "n = length(S)\n",
        "p = (1/n)*replicate(n, 1)\n",
        "\n",
        "# Samples representing outcomes of the experiment of selecting 3 objects from\n",
        "# the sampling space with replacement - this corresponds to generating outcomes\n",
        "# of the random experiment of selecting 3 flavors from the 10 available\n",
        "samplesize = 1e04\n",
        "simulatedData = replicate(samplesize, sample(S, size = 3, replace = TRUE, prob = p))\n",
        "#print(simulatedData)\n",
        "\n",
        "#apply(simulatedData, 1, unique)\n",
        "#lengths(apply(simulatedData, 1, unique))\n",
        "#print(lengths(apply(simulatedData, 1, unique)) == 3)\n",
        "#sum(lengths(apply(simulatedData, 1, unique)) == 3)\n",
        "\n",
        "# Approximate probability of getting 3 distinct flavors\n",
        "approximate_probability = sum(lengths(apply(simulatedData, 2, unique)) == 3) /samplesize\n",
        "print(approximate_probability)"
      ],
      "execution_count": 25,
      "outputs": [
        {
          "output_type": "stream",
          "text": [
            "[1] 0.7217\n"
          ],
          "name": "stdout"
        }
      ]
    },
    {
      "cell_type": "code",
      "metadata": {
        "id": "ZvjHBiQkL9Bp",
        "outputId": "569b38d0-1fc1-46f7-85d7-cbad7005f3f8",
        "colab": {
          "base_uri": "https://localhost:8080/"
        }
      },
      "source": [
        "# Scenario: I have 10 coins in my pocket; 3 are copper and 7 are silver.\n",
        "# I take out 4 coins, one after another. What is the probability that\n",
        "# all 4 coins are silver\n",
        "\n",
        "# Theoretical approach: \n",
        "# Step-1: sample space S = {(c1,c2,s1,c3), (c1,c3,s2,c5), (c1,c2,c3,c4), (s1,s2,s3,s4), (c1,s1,c3,s3),....}\n",
        "# We have a sample space wherein each outcome can be thought of selecting from the\n",
        "# sampling space {'c1', 'c2', 'c3', 's1', 's2', 's2', 's4', 's5', 's6', 's7'} 4 objects without replacement\n",
        "# Step-2: are the outcomes in the sample space equally likely? yes.\n",
        "# Step-3: event E = {'(s1,s2,s3,s4),....'}\n",
        "# Step-4: p(E) = n(E)/n = (7C4) / (10C4) = 1/6.\n",
        "\n",
        "# Monte-Carlo simulation based on a simpler sampling space corresponding to the\n",
        "# random experiment of choosing a coin from 10 coins\n",
        "S = c(replicate(3, 'copper'), replicate(7, 'silver'))\n",
        "\n",
        "# Corresponding probabilities\n",
        "n = length(S)\n",
        "p = (1/n)*replicate(n, 1)\n",
        "\n",
        "# Samples representing outcomes of the experiment of selecting 4 objects from\n",
        "# the sampling space without replacement - this corresponds to generating outcomes\n",
        "# of the random experiment of selecting 4 coins from the 10 available without replacement. \n",
        "samplesize = 1e05\n",
        "simulatedData = replicate(samplesize, sample(S, size = 4, replace = FALSE, prob = p))\n",
        "#print(simulatedData)\n",
        "\n",
        "# Function to check if two silver and two copper coins are selected \n",
        "checkEvent = function(coindata){\n",
        "  #if (sum(coindata == 'silver') == 4){\n",
        "  #if (sum(coindata == 'silver') == 2){  \n",
        "  if ((coindata[1] == 'silver') & (coindata[2] == 'silver') \n",
        "  & (coindata[3] == 'copper') & (coindata[4] == 'copper')){  \n",
        "    return(1)\n",
        "  }\n",
        "  else{\n",
        "    return(0)\n",
        "  }\n",
        "}\n",
        "\n",
        "# Calculate approximate probability of all four coins being silver\n",
        "approximate_probability = sum(apply(simulatedData, 2, checkEvent)) / samplesize\n",
        "print(approximate_probability)\n"
      ],
      "execution_count": 32,
      "outputs": [
        {
          "output_type": "stream",
          "text": [
            "[1] 0.04977\n"
          ],
          "name": "stdout"
        }
      ]
    }
  ]
}