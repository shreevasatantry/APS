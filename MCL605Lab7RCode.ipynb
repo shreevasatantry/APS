{
  "nbformat": 4,
  "nbformat_minor": 0,
  "metadata": {
    "kernelspec": {
      "display_name": "R",
      "language": "R",
      "name": "ir"
    },
    "language_info": {
      "codemirror_mode": "r",
      "file_extension": ".r",
      "mimetype": "text/x-r-source",
      "name": "R",
      "pygments_lexer": "r",
      "version": "3.3.1"
    },
    "colab": {
      "name": "MCL605Lab7RCode.ipynb",
      "provenance": [],
      "collapsed_sections": []
    }
  },
  "cells": [
    {
      "cell_type": "code",
      "metadata": {
        "id": "F5Ie8mnBNE20",
        "colab": {
          "base_uri": "https://localhost:8080/"
        },
        "outputId": "4e398934-09bb-4fa8-9709-3caf27732564"
      },
      "source": [
        "# Sampling space\n",
        "S = c(0, 1)\n",
        "\n",
        "# Probabilities for each judge\n",
        "p = matrix(nrow  = 5, ncol = 2, c(0.05, 0.05, 0.1, 0.1, 0.2, 0.95, 0.95, 0.9, 0.9, 0.8))\n",
        "\n",
        "samplesize = 1e06\n",
        "\n",
        "judgeResult = function(){\n",
        "  result = numeric(5)  \n",
        "  for (j in c(1:5)){\n",
        "      result[j] = sample(S, size = 1, prob = p[j, ] )\n",
        "      }  \n",
        "  result[5] = result[1]        \n",
        "  return(result)    \n",
        "}\n",
        "\n",
        "simulatedData = replicate(samplesize, judgeResult())\n",
        "#print(simulatedData)\n",
        "\n",
        "# Function to check if majority vote results in an incorrect decision\n",
        "checkEvent = function(judgedata){\n",
        "  tab = table(judgedata)\n",
        "  if (any(names(tab) == 0) && (tab[names(tab) == 0] >= 3) ){ \n",
        "    return(1)\n",
        "  }\n",
        "  else{\n",
        "    return(0)\n",
        "  }\n",
        "}\n",
        "\n",
        "# Approximate probability of all 5 judges giving the correct decision\n",
        "approximate_probability = sum(apply(simulatedData, 2, checkEvent)) /samplesize\n",
        "print(approximate_probability)"
      ],
      "execution_count": null,
      "outputs": [
        {
          "output_type": "stream",
          "text": [
            "[1] 0.011962\n"
          ],
          "name": "stdout"
        }
      ]
    },
    {
      "cell_type": "code",
      "metadata": {
        "id": "dX29y1-uV-S8",
        "colab": {
          "base_uri": "https://localhost:8080/"
        },
        "outputId": "853eeefe-6c6a-4ad6-d072-eab4b2a6d6e7"
      },
      "source": [
        "judgedata =  c(1,1,0,0,0) # c('C', 'C', 'IC', 'IC', 'IC')\n",
        "tab = table(judgedata)\n",
        "print(tab)\n",
        "print(names(tab))\n",
        "print(names(tab) == 0)\n",
        "print(tab[names(tab) == 0])"
      ],
      "execution_count": null,
      "outputs": [
        {
          "output_type": "stream",
          "text": [
            "judgedata\n",
            "0 1 \n",
            "3 2 \n",
            "[1] \"0\" \"1\"\n",
            "[1]  TRUE FALSE\n",
            "0 \n",
            "3 \n"
          ],
          "name": "stdout"
        }
      ]
    },
    {
      "cell_type": "code",
      "metadata": {
        "id": "mEiUy6JqzoLu",
        "colab": {
          "base_uri": "https://localhost:8080/"
        },
        "outputId": "c655b355-9b22-4489-8034-bbddfe7ad5c3"
      },
      "source": [
        "#0.95, 0.05, 0.95, 0.05, 0.9, 0.1, 0.9, 0.1,0.8, 0.2\n",
        "p = matrix(nrow  = 5, ncol = 2, c(1,2,3,4,5,6,7,8,9,10))\n",
        "p = matrix(nrow  = 5, ncol = 2, c(0.05, 0.05, 0.1, 0.1, 0.2, 0.95, 0.95, 0.9, 0.9, 0.8))\n",
        "print(p)"
      ],
      "execution_count": null,
      "outputs": [
        {
          "output_type": "stream",
          "text": [
            "     [,1] [,2]\n",
            "[1,] 0.05 0.95\n",
            "[2,] 0.05 0.95\n",
            "[3,] 0.10 0.90\n",
            "[4,] 0.10 0.90\n",
            "[5,] 0.20 0.80\n"
          ],
          "name": "stdout"
        }
      ]
    },
    {
      "cell_type": "code",
      "metadata": {
        "colab": {
          "base_uri": "https://localhost:8080/"
        },
        "id": "5_y3yGtXgLOK",
        "outputId": "d1683856-89f9-4dae-a335-ca8040946302"
      },
      "source": [
        "# Thanks to Karthik for the code\n",
        "user_loc_prob = matrix(nrow = 4, ncol = 4, c(0.05,0.1,0.05,0.05,\n",
        "                                            0.05,0.1,0.05,0.05,\n",
        "                                            0.05,0.05,0.1,0.05,\n",
        "                                            0.05,0.05,0.1,0.05))\n",
        "conditional_signal_loc = matrix(nrow = 4, ncol = 4, c(0.75,0.95,0.75,0.05,\n",
        "                                                      0.05,0.75,0.95,0.75,\n",
        "                                                      0.01,0.05,0.75,0.95,\n",
        "                                                      0.01,0.01,0.05,0.75))\n",
        "conditional_loc_given_signal = (user_loc_prob %*% conditional_signal_loc) / sum(user_loc_prob * conditional_signal_loc)\n",
        "\n",
        "print(conditional_loc_given_signal)"
      ],
      "execution_count": 15,
      "outputs": [
        {
          "output_type": "stream",
          "text": [
            "          [,1]      [,2]      [,3]       [,4]\n",
            "[1,] 0.2480159 0.2480159 0.1746032 0.08134921\n",
            "[2,] 0.4166667 0.3273810 0.1805556 0.08333333\n",
            "[3,] 0.3273810 0.4166667 0.3432540 0.16071429\n",
            "[4,] 0.2480159 0.2480159 0.1746032 0.08134921\n"
          ],
          "name": "stdout"
        }
      ]
    }
  ]
}