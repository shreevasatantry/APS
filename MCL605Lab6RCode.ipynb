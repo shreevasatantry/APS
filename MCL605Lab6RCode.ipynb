{
  "nbformat": 4,
  "nbformat_minor": 0,
  "metadata": {
    "kernelspec": {
      "display_name": "R",
      "language": "R",
      "name": "ir"
    },
    "language_info": {
      "codemirror_mode": "r",
      "file_extension": ".r",
      "mimetype": "text/x-r-source",
      "name": "R",
      "pygments_lexer": "r",
      "version": "3.3.1"
    },
    "colab": {
      "name": "MCL605Lab6RCode.ipynb",
      "provenance": [],
      "collapsed_sections": []
    }
  },
  "cells": [
    {
      "cell_type": "code",
      "metadata": {
        "id": "5qcAyEsSEh0_",
        "colab": {
          "base_uri": "https://localhost:8080/"
        },
        "outputId": "220c22d9-506b-494a-bced-0bf42ce4968f"
      },
      "source": [
        "# Scenario: we can get 3 scoops on a cone. There are 10 different flavors.\n",
        "# What is the probability that we get three different flavors on the cone.\n",
        "\n",
        "# Theoretical approach: \n",
        "# Step-1: sample space S = {'(vanilla, pista, strawberry)',\n",
        "#                           '(vanilla, vanilla, pista)',\n",
        "#                           '(vanilla, pista, vanilla)',\n",
        "#                            .............................}\n",
        "\n",
        "# Step-2: are the outcomes in the sample space equally likely? yes.\n",
        "# Step-3: event E = {'(vanilla, pista, strawberry)', '(vanilla, strawberry, pista),...'}\n",
        "# Step-4: p(E) = n(E)/n = (10P3)/(10^3) = (choose(10, 3)*factorial(3)) / (10^3) = 0.72\n",
        "\n",
        "# Monte-Carlo simulation based on repeating the experiment of selecting \n",
        "# 3 objects from the sampling space {'vanilla', 'pista', 'strawberry',.........}\n",
        "# comprising 10 objects with replacement. This corresponds to generating outcomes\n",
        "# of the random experiment of selecting 3 flavors from the 10 available\n",
        "\n",
        "# Sampling space\n",
        "S = c('vanilla', 'pista', 'strawberry', 'chocolate', 'blackberry',\n",
        " 'blueberry', 'mango', 'sitaphal', 'chickoo', 'jack fruit')\n",
        "\n",
        "# Corresponding probabilities\n",
        "n = length(S)\n",
        "p = (1/n)*replicate(n, 1) # equally likely to pick any flavor\n",
        "\n",
        "samplesize = 1e04\n",
        "nflavors = 3\n",
        "simulatedData = replicate(samplesize, sample(S, size = nflavors, replace = TRUE, prob = p))\n",
        "#print(simulatedData)\n",
        "\n",
        "# Function to check if all flavors are unique \n",
        "checkEvent = function(icecreamdata){\n",
        "  if (length(unique(icecreamdata)) == nflavors){  \n",
        "    return(1)\n",
        "  }\n",
        "  else{\n",
        "    return(0)\n",
        "  }\n",
        "}\n",
        "\n",
        "# Approximate probability of getting 3 distinct flavors\n",
        "approximate_probability = sum(apply(simulatedData, 2, checkEvent)) /samplesize\n",
        "print(approximate_probability)"
      ],
      "execution_count": 2,
      "outputs": [
        {
          "output_type": "stream",
          "text": [
            "[1] 0.7268\n"
          ],
          "name": "stdout"
        }
      ]
    },
    {
      "cell_type": "code",
      "metadata": {
        "colab": {
          "base_uri": "https://localhost:8080/"
        },
        "id": "WOvwF4w58mMg",
        "outputId": "f0187bf1-b58f-4e8b-ca1c-362660d69676"
      },
      "source": [
        "# Scenario: we have 74 students in our class. There are 365 different days in\n",
        "# a year for a student's birthday. What is the probability at least two students\n",
        "# have the same birthday?.\n",
        "\n",
        "# Theoretical approach: \n",
        "# Step-1: sample space S = {'(1, 1, 1,.....,1)',\n",
        "#                           '(1, 2, 3,......,74),\n",
        "#                            ...............}\n",
        "\n",
        "# Step-2: are the outcomes in the sample space equally likely? yes.\n",
        "# Step-3: Event E => \"At least two students have same birthday\".\n",
        "# = \"Some students have same birthday\"\n",
        "# We know that P(E) = 1-P(Ecomplement), where Ecomplement = negation of E\n",
        "# Ecomplement => Not(\"Some students have same birthday\")\n",
        "# = \"No students have same birthday\"\n",
        "# = \"All students not have same birthday\"\n",
        "# = \"All students have distinct birthdays\"\n",
        "# Step-3: event Ecomplement = {'(1, 2, 3, ...., 74), (2, 3, 4, ..., 75),.........}\n",
        "# Step-4: p(Ecomplement) = n(Ecomplement)/n =\n",
        "#= (365P74)/(365^74) = (choose(365, 74)*factorial(74)) / (365^74) \n",
        "\n",
        "# Monte-Carlo simulation based on repeating the experiment of selecting \n",
        "# 74 objects from the sampling space {1, 2, 3, ..., 365} comprising 365\n",
        "# objects with replacement. This corresponds to generating outcomes\n",
        "# of the random experiment of selecting 74 dates from the 365 available.\n",
        "\n",
        "# Sampling space\n",
        "S = c(1:365)\n",
        "\n",
        "# Corresponding probabilities\n",
        "n = length(S)\n",
        "p = (1/n)*replicate(n, 1) # equally likely to pick any flavor\n",
        "\n",
        "samplesize = 1e05\n",
        "nstudents = 74 \n",
        "simulatedData = replicate(samplesize, sample(S, size = nstudents, replace = TRUE, prob = p))\n",
        "#print(simulatedData)\n",
        "\n",
        "# Function to check if all birthdays are unique \n",
        "checkEvent = function(bdaydata){\n",
        "  if (length(unique(bdaydata)) == nstudents){  \n",
        "    return(1)\n",
        "  }\n",
        "  else{\n",
        "    return(0)\n",
        "  }\n",
        "}\n",
        "\n",
        "# Approximate probability of getting all distinct birthdays\n",
        "approximate_probability = sum(apply(simulatedData, 2, checkEvent)) /samplesize\n",
        "# Approximate probability of at least two students having the same birthday\n",
        "print(1-approximate_probability)"
      ],
      "execution_count": 5,
      "outputs": [
        {
          "output_type": "stream",
          "text": [
            "[1] 0.99973\n"
          ],
          "name": "stdout"
        }
      ]
    },
    {
      "cell_type": "code",
      "metadata": {
        "id": "ZvjHBiQkL9Bp",
        "colab": {
          "base_uri": "https://localhost:8080/"
        },
        "outputId": "74769316-10ee-45e9-fd8b-10c003f2baa8"
      },
      "source": [
        "# Scenario: we have 74 students in our class. There are 365 different days in\n",
        "# a year for a student's birthday. What is the probability at least three students\n",
        "# have the same birthday?.\n",
        "\n",
        "# Monte-Carlo simulation based on repeating the experiment of selecting \n",
        "# 74 objects from the sampling space {1, 2, 3, ..., 365} comprising 365\n",
        "# objects with replacement. This corresponds to generating outcomes\n",
        "# of the random experiment of selecting 74 dates from the 365 available.\n",
        "\n",
        "# Sampling space\n",
        "S = c(1:365)\n",
        "\n",
        "# Corresponding probabilities\n",
        "n = length(S)\n",
        "p = (1/n)*replicate(n, 1) # equally likely to pick any flavor\n",
        "\n",
        "samplesize = 1e05\n",
        "nstudents = 74\n",
        "simulatedData = replicate(samplesize, sample(S, size = nstudents, replace = TRUE, prob = p))\n",
        "#print(simulatedData)\n",
        "\n",
        "# Function to check if there are at least three birthdays that are the same \n",
        "checkEvent = function(bdaydata){\n",
        "  if (sum(table(bdaydata) >= 3) >= 1){  \n",
        "    return(1)\n",
        "  }\n",
        "  else{\n",
        "    return(0)\n",
        "  }\n",
        "}\n",
        "\n",
        "# Approximate probability of at least three students having the same birthday\n",
        "approximate_probability = sum(apply(simulatedData, 2, checkEvent)) /samplesize\n",
        "print(approximate_probability)"
      ],
      "execution_count": 20,
      "outputs": [
        {
          "output_type": "stream",
          "text": [
            "[1] 0.34867\n"
          ],
          "name": "stdout"
        }
      ]
    }
  ]
}