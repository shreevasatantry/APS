{
  "nbformat": 4,
  "nbformat_minor": 0,
  "metadata": {
    "kernelspec": {
      "display_name": "R",
      "language": "R",
      "name": "ir"
    },
    "language_info": {
      "codemirror_mode": "r",
      "file_extension": ".r",
      "mimetype": "text/x-r-source",
      "name": "R",
      "pygments_lexer": "r",
      "version": "3.3.1"
    },
    "colab": {
      "name": "MCL605Lab9RCode.ipynb",
      "provenance": [],
      "collapsed_sections": []
    }
  },
  "cells": [
    {
      "cell_type": "code",
      "metadata": {
        "id": "UUKyea-RwmZy"
      },
      "source": [
        "library(ggplot2)\r\n",
        "library(dplyr)"
      ],
      "execution_count": 52,
      "outputs": []
    },
    {
      "cell_type": "code",
      "metadata": {
        "id": "5qcAyEsSEh0_",
        "colab": {
          "base_uri": "https://localhost:8080/",
          "height": 140
        },
        "outputId": "30aeff91-d8e3-4748-a0bd-628a4a3e0345"
      },
      "source": [
        "# Scenario: A salesman has scheduled two appointments to sell encyclopedias. His\n",
        "# first appointment will lead to a sale with probability 0.3, and his second\n",
        "# will lead independently to a sale with probability 0.6. Any sale made is equally\n",
        "# likely to be either for the deluxe model, which costs Rs. 1000, or the standard\n",
        "# model, which costs $500. Let X be the random variable representing the total \n",
        "# Rupee value of sales. What are the different values that X can take? What are\n",
        "# the associated probabilities?\n",
        "\n",
        "# Monte-Carlo simulation \n",
        "# Sampling space for appointment success (0 corresponds to no sale, 1 corresponds to a sale)\n",
        "S_appointment = c(0, 1)\n",
        "\n",
        "# Sampling space for book sales (500 corresponds to standard edition, 1000 corresponds to deluxe edition)\n",
        "S_book = c(500, 1000)\n",
        "\n",
        "# Appointment success and failure probabilities\n",
        "p_appointment = matrix(nrow  = 2, ncol = 2, c(0.7, 0.4, 0.3, 0.6))\n",
        "\n",
        "# Book type probabilities\n",
        "p_book = c(0.5, 0.5)\n",
        "\n",
        "samplesize = 1e5\n",
        "\n",
        "# Returns the earnings from one trial of the experiment\n",
        "salesResult = function(){\n",
        "  result = numeric(2)  \n",
        "  # Simulate whether sales happen in first and second appointments\n",
        "  for (j in c(1:2)){\n",
        "      result[j] = sample(S_appointment, size = 1, prob = p_appointment[j, ])\n",
        "      }    \n",
        "  # Calculate earnings if sales happen in first and second appointments\n",
        "  return(ifelse(result[1] == 1, sample(S_book, size = 1, prob = p_book), 0) +\n",
        "  ifelse(result[2] == 1, sample(S_book, size = 1, prob = p_book), 0))\n",
        "}\n",
        "\n",
        "simulatedData = replicate(samplesize, salesResult())\n",
        "#print(simulatedData)\n",
        "table(simulatedData)\n",
        "table(simulatedData) / samplesize\n",
        "sum(table(simulatedData) / samplesize)"
      ],
      "execution_count": 39,
      "outputs": [
        {
          "output_type": "display_data",
          "data": {
            "text/plain": [
              "simulatedData\n",
              "    0   500  1000  1500  2000 \n",
              "27812 27298 31478  8930  4482 "
            ]
          },
          "metadata": {
            "tags": []
          }
        },
        {
          "output_type": "display_data",
          "data": {
            "text/plain": [
              "simulatedData\n",
              "      0     500    1000    1500    2000 \n",
              "0.27812 0.27298 0.31478 0.08930 0.04482 "
            ]
          },
          "metadata": {
            "tags": []
          }
        },
        {
          "output_type": "display_data",
          "data": {
            "text/plain": [
              "[1] 1"
            ],
            "text/latex": "1",
            "text/markdown": "1",
            "text/html": [
              "1"
            ]
          },
          "metadata": {
            "tags": []
          }
        }
      ]
    },
    {
      "cell_type": "markdown",
      "metadata": {
        "id": "D_cJMnipLUz8"
      },
      "source": [
        "X = total earnings from one attempt \r\n",
        "\r\n",
        "X is a discrete random variable \r\n",
        "\r\n",
        "X = 0, 500, 1000, 1500, 2000\r\n",
        "\r\n",
        "P(X = 0)  = 0.27, P(X = 500) = 0.28, P(X = 1000) = 0.315, P(X = 1500) = 0.09, P(X = 2000) = 0.045\r\n",
        "\r\n",
        "Probability Mass Function (PMF) of the random variable X\r\n",
        "\r\n",
        "$P_X(0) = P(X = 0) = 0.27$\r\n",
        "\r\n",
        "$P_X(500) = P(X = 500) = 0.28$\r\n",
        "\r\n",
        "$P_X(1000) = P(X = 1000) = 0.315$\r\n",
        "\r\n",
        "$P_X(1500) = P(X = 1500) = 0.09$\r\n",
        "\r\n",
        "$P_X(2000) = P(X = 2000) = 0.045$"
      ]
    },
    {
      "cell_type": "code",
      "metadata": {
        "colab": {
          "base_uri": "https://localhost:8080/",
          "height": 628
        },
        "id": "b-xhW59AKVjH",
        "outputId": "760cedf0-e40d-4ab5-a2e4-59cb16b926e4"
      },
      "source": [
        "dfSales = as.data.frame(simulatedData)\r\n",
        "colnames(dfSales) = c('Earning')\r\n",
        "head(dfSales, 5)\r\n",
        "p = ggplot(data = dfSales, aes(x = factor(Earning))) +\r\n",
        "  geom_bar(stat = 'count', width = 0.7, fill = 'steelblue')+\r\n",
        "      theme_minimal()\r\n",
        "p  "
      ],
      "execution_count": 64,
      "outputs": [
        {
          "output_type": "display_data",
          "data": {
            "text/plain": [
              "  Earning\n",
              "1 500    \n",
              "2 500    \n",
              "3 500    \n",
              "4   0    \n",
              "5   0    "
            ],
            "text/latex": "A data.frame: 5 × 1\n\\begin{tabular}{r|l}\n  & Earning\\\\\n  & <dbl>\\\\\n\\hline\n\t1 & 500\\\\\n\t2 & 500\\\\\n\t3 & 500\\\\\n\t4 &   0\\\\\n\t5 &   0\\\\\n\\end{tabular}\n",
            "text/markdown": "\nA data.frame: 5 × 1\n\n| <!--/--> | Earning &lt;dbl&gt; |\n|---|---|\n| 1 | 500 |\n| 2 | 500 |\n| 3 | 500 |\n| 4 |   0 |\n| 5 |   0 |\n\n",
            "text/html": [
              "<table>\n",
              "<caption>A data.frame: 5 × 1</caption>\n",
              "<thead>\n",
              "\t<tr><th></th><th scope=col>Earning</th></tr>\n",
              "\t<tr><th></th><th scope=col>&lt;dbl&gt;</th></tr>\n",
              "</thead>\n",
              "<tbody>\n",
              "\t<tr><th scope=row>1</th><td>500</td></tr>\n",
              "\t<tr><th scope=row>2</th><td>500</td></tr>\n",
              "\t<tr><th scope=row>3</th><td>500</td></tr>\n",
              "\t<tr><th scope=row>4</th><td>  0</td></tr>\n",
              "\t<tr><th scope=row>5</th><td>  0</td></tr>\n",
              "</tbody>\n",
              "</table>\n"
            ]
          },
          "metadata": {
            "tags": []
          }
        },
        {
          "output_type": "display_data",
          "data": {
            "image/png": "[encoded data removed]",
            "text/plain": [
              "plot without title"
            ]
          },
          "metadata": {
            "tags": [],
            "image/png": {
              "width": 420,
              "height": 420
            }
          }
        }
      ]
    },
    {
      "cell_type": "code",
      "metadata": {
        "id": "rBKr1qulP3vu"
      },
      "source": [
        "factor(dfSales$Earning)"
      ],
      "execution_count": null,
      "outputs": []
    },
    {
      "cell_type": "code",
      "metadata": {
        "colab": {
          "base_uri": "https://localhost:8080/",
          "height": 70
        },
        "id": "U0ktaSG8Q9OP",
        "outputId": "54645fd1-86cb-4994-8ec8-0e781349cefe"
      },
      "source": [
        "table(simulatedData)"
      ],
      "execution_count": 65,
      "outputs": [
        {
          "output_type": "display_data",
          "data": {
            "text/plain": [
              "simulatedData\n",
              "    0   500  1000  1500  2000 \n",
              "27812 27298 31478  8930  4482 "
            ]
          },
          "metadata": {
            "tags": []
          }
        }
      ]
    },
    {
      "cell_type": "code",
      "metadata": {
        "colab": {
          "base_uri": "https://localhost:8080/",
          "height": 593
        },
        "id": "Ka_zXrFIt4JW",
        "outputId": "1b5ac986-66c5-4480-8107-b5a3ce9ec87d"
      },
      "source": [
        "dfSales = as.data.frame(table(simulatedData))\r\n",
        "colnames(dfSales) = c('Earning', 'Frequency')\r\n",
        "head(dfSales, 5)\r\n",
        "p = ggplot(data = dfSales, aes(x = Earning, y = Frequency)) +\r\n",
        "  geom_col(width = 0.7, fill = 'steelblue') +\r\n",
        "    theme_minimal()\r\n",
        "p  "
      ],
      "execution_count": 68,
      "outputs": [
        {
          "output_type": "display_data",
          "data": {
            "text/plain": [
              "  Earning Frequency\n",
              "1 0       27812    \n",
              "2 500     27298    \n",
              "3 1000    31478    \n",
              "4 1500     8930    \n",
              "5 2000     4482    "
            ],
            "text/latex": "A data.frame: 5 × 2\n\\begin{tabular}{r|ll}\n  & Earning & Frequency\\\\\n  & <fct> & <int>\\\\\n\\hline\n\t1 & 0    & 27812\\\\\n\t2 & 500  & 27298\\\\\n\t3 & 1000 & 31478\\\\\n\t4 & 1500 &  8930\\\\\n\t5 & 2000 &  4482\\\\\n\\end{tabular}\n",
            "text/markdown": "\nA data.frame: 5 × 2\n\n| <!--/--> | Earning &lt;fct&gt; | Frequency &lt;int&gt; |\n|---|---|---|\n| 1 | 0    | 27812 |\n| 2 | 500  | 27298 |\n| 3 | 1000 | 31478 |\n| 4 | 1500 |  8930 |\n| 5 | 2000 |  4482 |\n\n",
            "text/html": [
              "<table>\n",
              "<caption>A data.frame: 5 × 2</caption>\n",
              "<thead>\n",
              "\t<tr><th></th><th scope=col>Earning</th><th scope=col>Frequency</th></tr>\n",
              "\t<tr><th></th><th scope=col>&lt;fct&gt;</th><th scope=col>&lt;int&gt;</th></tr>\n",
              "</thead>\n",
              "<tbody>\n",
              "\t<tr><th scope=row>1</th><td>0   </td><td>27812</td></tr>\n",
              "\t<tr><th scope=row>2</th><td>500 </td><td>27298</td></tr>\n",
              "\t<tr><th scope=row>3</th><td>1000</td><td>31478</td></tr>\n",
              "\t<tr><th scope=row>4</th><td>1500</td><td> 8930</td></tr>\n",
              "\t<tr><th scope=row>5</th><td>2000</td><td> 4482</td></tr>\n",
              "</tbody>\n",
              "</table>\n"
            ]
          },
          "metadata": {
            "tags": []
          }
        },
        {
          "output_type": "display_data",
          "data": {
            "image/png": "[encoded data removed]",
            "text/plain": [
              "plot without title"
            ]
          },
          "metadata": {
            "tags": [],
            "image/png": {
              "width": 420,
              "height": 420
            }
          }
        }
      ]
    },
    {
      "cell_type": "code",
      "metadata": {
        "id": "o4l8uO5-_0Ya"
      },
      "source": [
        "matrix(nrow  = 2, ncol = 2, c(1, 2, 3, 4), byrow = TRUE)"
      ],
      "execution_count": null,
      "outputs": []
    },
    {
      "cell_type": "code",
      "metadata": {
        "colab": {
          "base_uri": "https://localhost:8080/",
          "height": 34
        },
        "id": "fvWGJIVBAWIy",
        "outputId": "e2baa2ac-5df1-4abc-d906-3d272e5ed753"
      },
      "source": [
        "value = 0\r\n",
        "ifelse(value == 0, 'zero', 'not zero')"
      ],
      "execution_count": 33,
      "outputs": [
        {
          "output_type": "display_data",
          "data": {
            "text/plain": [
              "[1] \"zero\""
            ],
            "text/latex": "'zero'",
            "text/markdown": "'zero'",
            "text/html": [
              "'zero'"
            ]
          },
          "metadata": {
            "tags": []
          }
        }
      ]
    },
    {
      "cell_type": "code",
      "metadata": {
        "colab": {
          "base_uri": "https://localhost:8080/",
          "height": 143
        },
        "id": "BV03B2nfIZLl",
        "outputId": "beda303f-da37-4379-b500-5372d17ddff8"
      },
      "source": [
        "matrix(nrow  = 2, ncol = 2, c(0.7, 0.4, 0.3, 0.6))"
      ],
      "execution_count": 35,
      "outputs": [
        {
          "output_type": "display_data",
          "data": {
            "text/plain": [
              "     [,1] [,2]\n",
              "[1,] 0.7  0.3 \n",
              "[2,] 0.4  0.6 "
            ],
            "text/latex": "A matrix: 2 × 2 of type dbl\n\\begin{tabular}{ll}\n\t 0.7 & 0.3\\\\\n\t 0.4 & 0.6\\\\\n\\end{tabular}\n",
            "text/markdown": "\nA matrix: 2 × 2 of type dbl\n\n| 0.7 | 0.3 |\n| 0.4 | 0.6 |\n\n",
            "text/html": [
              "<table>\n",
              "<caption>A matrix: 2 × 2 of type dbl</caption>\n",
              "<tbody>\n",
              "\t<tr><td>0.7</td><td>0.3</td></tr>\n",
              "\t<tr><td>0.4</td><td>0.6</td></tr>\n",
              "</tbody>\n",
              "</table>\n"
            ]
          },
          "metadata": {
            "tags": []
          }
        }
      ]
    },
    {
      "cell_type": "code",
      "metadata": {
        "colab": {
          "base_uri": "https://localhost:8080/",
          "height": 70
        },
        "id": "6kzXFKHeJde6",
        "outputId": "ac702214-8404-4155-9968-7b4d98070174"
      },
      "source": [
        "anarray = c(1,1,1,2,2,3,3,3,3,4,4,4,4,4,4)\r\n",
        "table(anarray)"
      ],
      "execution_count": 36,
      "outputs": [
        {
          "output_type": "display_data",
          "data": {
            "text/plain": [
              "anarray\n",
              "1 2 3 4 \n",
              "3 2 4 6 "
            ]
          },
          "metadata": {
            "tags": []
          }
        }
      ]
    },
    {
      "cell_type": "markdown",
      "metadata": {
        "id": "ly_fBl9nTu7u"
      },
      "source": [
        "Expected value of the random variable $X$\r\n",
        "\r\n",
        "$\\begin{align*}E[X] &= \\sum_x x\\times P_X(x)\\\\&= 0\\times P_X(0)+500\\times P_X(500)+1000\\times P_X(1000)+1500\\times P_X(1500)+2000\\times P_X(2000)\\\\&\\approx 0 \\times\\underbrace{\\frac{\\text{No. of times 0 appeared}}{\\text{samplesize}}}_{=\\text{approximation to }P_X(0)}+\\cdots\\end{align*}$"
      ]
    },
    {
      "cell_type": "code",
      "metadata": {
        "colab": {
          "base_uri": "https://localhost:8080/",
          "height": 51
        },
        "id": "kGT80YihTcoP",
        "outputId": "8da54d5a-4940-448b-af94-67a8610b0318"
      },
      "source": [
        "# Expected earnings using simulated values\r\n",
        "mean(simulatedData)\r\n",
        "\r\n",
        "x = c(0, 500, 1000, 1500, 2000)\r\n",
        "p = c(0.28, 0.27, 0.315, 0.09, 0.045)\r\n",
        "\r\n",
        "# Expected earnings calculated analytically\r\n",
        "sum(x * p)"
      ],
      "execution_count": 71,
      "outputs": [
        {
          "output_type": "display_data",
          "data": {
            "text/plain": [
              "[1] 674.86"
            ],
            "text/latex": "674.86",
            "text/markdown": "674.86",
            "text/html": [
              "674.86"
            ]
          },
          "metadata": {
            "tags": []
          }
        },
        {
          "output_type": "display_data",
          "data": {
            "text/plain": [
              "[1] 675"
            ],
            "text/latex": "675",
            "text/markdown": "675",
            "text/html": [
              "675"
            ]
          },
          "metadata": {
            "tags": []
          }
        }
      ]
    },
    {
      "cell_type": "markdown",
      "metadata": {
        "id": "EiGFb0IcYBaY"
      },
      "source": [
        "Variance of the random variable $X$\r\n",
        "\r\n",
        "$\\begin{align*}\\text{Var}[X] &= E[(X-E[X])^2]\\\\&=\r\n",
        "\\sum_x (x-E[X])^2\\times P_X(x)\\\\&= (0-675)^2\\times P_X(0)+(500-675)^2\\times P_X(500)+(1000-675)^2\\times P_X(1000)+(1500-675)^2\\times P_X(1500)+(2000-675)^2\\times P_X(2000)\\end{align*}$\r\n",
        "\r\n",
        "Standard deviation of the random variable $X$\r\n",
        "\r\n",
        "$\\begin{align*}\\text{SD}[X] &= \\sqrt{E\\left[(X-E[X])^2\\right]}\\end{align*}$"
      ]
    },
    {
      "cell_type": "code",
      "metadata": {
        "colab": {
          "base_uri": "https://localhost:8080/",
          "height": 68
        },
        "id": "RMD7O5VBZlqp",
        "outputId": "ea08d7f9-5de6-43a5-a181-ed91518367f6"
      },
      "source": [
        "# Variance of the earnings using simulated values\r\n",
        "mean((simulatedData - mean(simulatedData))^2)\r\n",
        "\r\n",
        "x = c(0, 500, 1000, 1500, 2000)\r\n",
        "p = c(0.28, 0.27, 0.315, 0.09, 0.045)\r\n",
        "\r\n",
        "# Variance of the earnings calculated analytically\r\n",
        "sum((x-sum(x*p))^2 * p)\r\n",
        "\r\n",
        "# Standard deviation of the random variable X\r\n",
        "sqrt(sum((x-sum(x*p))^2 * p))"
      ],
      "execution_count": 74,
      "outputs": [
        {
          "output_type": "display_data",
          "data": {
            "text/plain": [
              "[1] 307794"
            ],
            "text/latex": "307793.9804",
            "text/markdown": "307793.9804",
            "text/html": [
              "307793.9804"
            ]
          },
          "metadata": {
            "tags": []
          }
        },
        {
          "output_type": "display_data",
          "data": {
            "text/plain": [
              "[1] 309375"
            ],
            "text/latex": "309375",
            "text/markdown": "309375",
            "text/html": [
              "309375"
            ]
          },
          "metadata": {
            "tags": []
          }
        },
        {
          "output_type": "display_data",
          "data": {
            "text/plain": [
              "[1] 556.2149"
            ],
            "text/latex": "556.214886532175",
            "text/markdown": "556.214886532175",
            "text/html": [
              "556.214886532175"
            ]
          },
          "metadata": {
            "tags": []
          }
        }
      ]
    }
  ]
}