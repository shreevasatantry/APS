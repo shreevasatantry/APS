{
  "nbformat": 4,
  "nbformat_minor": 0,
  "metadata": {
    "kernelspec": {
      "display_name": "R",
      "language": "R",
      "name": "ir"
    },
    "language_info": {
      "codemirror_mode": "r",
      "file_extension": ".r",
      "mimetype": "text/x-r-source",
      "name": "R",
      "pygments_lexer": "r",
      "version": "3.3.1"
    },
    "colab": {
      "name": "MCL605Lab1RCode.ipynb",
      "provenance": [],
      "collapsed_sections": []
    }
  },
  "cells": [
    {
      "cell_type": "code",
      "metadata": {
        "id": "Kt5fNI3lrho-",
        "outputId": "e53acaf0-d039-459b-fe12-0163019105a2",
        "colab": {
          "base_uri": "https://localhost:8080/",
          "height": 34
        }
      },
      "source": [
        "# Binomial coefficient C(n,r)\n",
        "n = 10\n",
        "r = 3\n",
        "cat(sprintf('Number of ways to select = %d', choose(n, r)))"
      ],
      "execution_count": 4,
      "outputs": [
        {
          "output_type": "stream",
          "text": [
            "Number of ways to select = 120"
          ],
          "name": "stdout"
        }
      ]
    },
    {
      "cell_type": "code",
      "metadata": {
        "id": "8bC3R1JdsjNg",
        "outputId": "c28bc75c-0e60-47d7-adef-e6da139ec50f",
        "colab": {
          "base_uri": "https://localhost:8080/",
          "height": 193
        }
      },
      "source": [
        "# for-loop\n",
        "for (j in c(1:10)){\n",
        "  cat(sprintf('Square of %d = %d\\n', j, j^2))  \n",
        "}"
      ],
      "execution_count": 6,
      "outputs": [
        {
          "output_type": "stream",
          "text": [
            "Square of 1 = 1\n",
            "Square of 2 = 4\n",
            "Square of 3 = 9\n",
            "Square of 4 = 16\n",
            "Square of 5 = 25\n",
            "Square of 6 = 36\n",
            "Square of 7 = 49\n",
            "Square of 8 = 64\n",
            "Square of 9 = 81\n",
            "Square of 10 = 100\n"
          ],
          "name": "stdout"
        }
      ]
    },
    {
      "cell_type": "code",
      "metadata": {
        "id": "2eFejV8MuuBT",
        "outputId": "fd0fea0d-2ac5-41b1-ece4-ffb7dc42e1c0",
        "colab": {
          "base_uri": "https://localhost:8080/",
          "height": 70
        }
      },
      "source": [
        "# While-loop\n",
        "niter = 0\n",
        "while (niter <= 4){\n",
        "  print(niter)\n",
        "  niter = niter+1\n",
        "  if (niter == 3){\n",
        "    break\n",
        "  }\n",
        "}"
      ],
      "execution_count": 14,
      "outputs": [
        {
          "output_type": "stream",
          "text": [
            "[1] 0\n",
            "[1] 1\n",
            "[1] 2\n"
          ],
          "name": "stdout"
        }
      ]
    },
    {
      "cell_type": "code",
      "metadata": {
        "id": "NBZy6dkCt3-4"
      },
      "source": [
        "# User-defined function in R\n",
        "printsquare = function(x){\n",
        "  return(x^2)\n",
        "}"
      ],
      "execution_count": 7,
      "outputs": []
    },
    {
      "cell_type": "code",
      "metadata": {
        "id": "vJTMN-RHuSZZ",
        "outputId": "b79c54bc-5f26-48af-e333-dd8389545936",
        "colab": {
          "base_uri": "https://localhost:8080/",
          "height": 34
        }
      },
      "source": [
        "# Calling the user-defined function\n",
        "printsquare(9)"
      ],
      "execution_count": 8,
      "outputs": [
        {
          "output_type": "display_data",
          "data": {
            "text/plain": [
              "[1] 81"
            ],
            "text/latex": "81",
            "text/markdown": "81",
            "text/html": [
              "81"
            ]
          },
          "metadata": {
            "tags": []
          }
        }
      ]
    },
    {
      "cell_type": "code",
      "metadata": {
        "id": "AIvTTHR5wBxS"
      },
      "source": [
        "# User-defined recursive function\n",
        "calcfac = function(n){\n",
        "  if (n==0 || n==1){\n",
        "    return(1)\n",
        "  }\n",
        "  else{\n",
        "    return(n*calcfac(n-1)) \n",
        "  }\n",
        "}"
      ],
      "execution_count": 16,
      "outputs": []
    },
    {
      "cell_type": "code",
      "metadata": {
        "id": "AFSwj-yhxin4",
        "outputId": "7edaf55c-0526-4fb9-ce79-544559119543",
        "colab": {
          "base_uri": "https://localhost:8080/",
          "height": 34
        }
      },
      "source": [
        "calcfac(5)"
      ],
      "execution_count": 17,
      "outputs": [
        {
          "output_type": "display_data",
          "data": {
            "text/plain": [
              "[1] 120"
            ],
            "text/latex": "120",
            "text/markdown": "120",
            "text/html": [
              "120"
            ]
          },
          "metadata": {
            "tags": []
          }
        }
      ]
    },
    {
      "cell_type": "code",
      "metadata": {
        "id": "vbANPil8xtwU"
      },
      "source": [
        "# Implement Pascal's identity recursively: C(n, r) = C(n-1, r-1)*C(1, 1) + C(n-1, r)\n",
        "calcbinomc = function(n, r){\n",
        "  if (n == r || r == 0){\n",
        "    return(1)\n",
        "  }\n",
        "  else{\n",
        "    return(calcbinomc(n-1, r-1) + calcbinomc(n-1, r))\n",
        "  }\n",
        "}"
      ],
      "execution_count": 20,
      "outputs": []
    },
    {
      "cell_type": "code",
      "metadata": {
        "id": "S3BsOXlI3Q80",
        "outputId": "b95347ff-59a3-4ccd-e8ce-a0d8506cba7c",
        "colab": {
          "base_uri": "https://localhost:8080/",
          "height": 34
        }
      },
      "source": [
        "# Call the user-defined function\n",
        "calcbinomc(5, 2)"
      ],
      "execution_count": 21,
      "outputs": [
        {
          "output_type": "display_data",
          "data": {
            "text/plain": [
              "[1] 10"
            ],
            "text/latex": "10",
            "text/markdown": "10",
            "text/html": [
              "10"
            ]
          },
          "metadata": {
            "tags": []
          }
        }
      ]
    },
    {
      "cell_type": "code",
      "metadata": {
        "id": "DceBJkU47pL5"
      },
      "source": [
        "# Implement Pascal's identity non-recursively: C(n, r) = (n/r)*C(n-1, r-1)\n",
        "calcbinomcnr = function(n, r){\n",
        "  \n",
        "}"
      ],
      "execution_count": null,
      "outputs": []
    }
  ]
}