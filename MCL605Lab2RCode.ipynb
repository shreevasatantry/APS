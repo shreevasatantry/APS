{
  "nbformat": 4,
  "nbformat_minor": 0,
  "metadata": {
    "kernelspec": {
      "display_name": "R",
      "language": "R",
      "name": "ir"
    },
    "language_info": {
      "codemirror_mode": "r",
      "file_extension": ".r",
      "mimetype": "text/x-r-source",
      "name": "R",
      "pygments_lexer": "r",
      "version": "3.3.1"
    },
    "colab": {
      "name": "MCL605Lab2RCode.ipynb",
      "provenance": [],
      "collapsed_sections": []
    }
  },
  "cells": [
    {
      "cell_type": "code",
      "metadata": {
        "id": "if3XWwnlCJsj",
        "outputId": "3a2c57a9-0c51-4d36-da50-b4c24672d2a3",
        "colab": {
          "base_uri": "https://localhost:8080/",
          "height": 70
        }
      },
      "source": [
        "# Install packages\n",
        "install.packages('plyr')"
      ],
      "execution_count": 13,
      "outputs": [
        {
          "output_type": "stream",
          "text": [
            "Installing package into ‘/usr/local/lib/R/site-library’\n",
            "(as ‘lib’ is unspecified)\n",
            "\n"
          ],
          "name": "stderr"
        }
      ]
    },
    {
      "cell_type": "code",
      "metadata": {
        "id": "bhmSp8orCqk6"
      },
      "source": [
        "# Load libraries\n",
        "library(ggplot2) # Plotting library\n",
        "library(dplyr)\n",
        "library(repr)"
      ],
      "execution_count": null,
      "outputs": []
    },
    {
      "cell_type": "code",
      "metadata": {
        "id": "fo7ybUSTRE9L"
      },
      "source": [
        "# Number of legal routes using the dynamic equation approach\n",
        "nLegalRoutes = function(k){\n",
        "  if (k==1){\n",
        "    return(1)\n",
        "  }\n",
        "  else{\n",
        "    return(nLegalRoutes(k-1)*(choose(2*(k-1)+1, 1) + choose(2*(k-1)+1, 2)))\n",
        "  }\n",
        "} "
      ],
      "execution_count": 5,
      "outputs": []
    },
    {
      "cell_type": "code",
      "metadata": {
        "id": "HlkBYMkpANkr",
        "outputId": "d0bc1439-2277-402a-d148-f23db29a745c",
        "colab": {
          "base_uri": "https://localhost:8080/",
          "height": 140
        }
      },
      "source": [
        "cat(sprintf('Using dynamic equation\\t Using direct formula\\n'))\n",
        "for (k in c(1:6)){\n",
        "  cat(sprintf('%10d\\t%10d\\n',nLegalRoutes(k), factorial(2*k)/(2^k)))\n",
        "  }"
      ],
      "execution_count": 12,
      "outputs": [
        {
          "output_type": "stream",
          "text": [
            "Using dynamic equation\t Using direct formula\n",
            "         1\t         1\n",
            "         6\t         6\n",
            "        90\t        90\n",
            "      2520\t      2520\n",
            "    113400\t    113400\n",
            "   7484400\t   7484400\n"
          ],
          "name": "stdout"
        }
      ]
    },
    {
      "cell_type": "code",
      "metadata": {
        "id": "JKKFhr9GDFlt",
        "outputId": "650fc5ec-c8f2-40e0-bb5e-da22bd9625ab",
        "colab": {
          "base_uri": "https://localhost:8080/",
          "height": 193
        }
      },
      "source": [
        "# Simulate artificial data\n",
        "set.seed(1)\n",
        "df = data.frame(Gender = rep(c('F', 'M'), 200),\n",
        " Weight = c(rnorm(200, mean = 55, sd = 5), rnorm(200, mean = 65, sd = 5)))\n",
        "head(df) "
      ],
      "execution_count": 21,
      "outputs": [
        {
          "output_type": "display_data",
          "data": {
            "text/plain": [
              "  Gender Weight  \n",
              "1 F      51.86773\n",
              "2 M      55.91822\n",
              "3 F      50.82186\n",
              "4 M      62.97640\n",
              "5 F      56.64754\n",
              "6 M      50.89766"
            ],
            "text/latex": "A data.frame: 6 × 2\n\\begin{tabular}{r|ll}\n  & Gender & Weight\\\\\n  & <chr> & <dbl>\\\\\n\\hline\n\t1 & F & 51.86773\\\\\n\t2 & M & 55.91822\\\\\n\t3 & F & 50.82186\\\\\n\t4 & M & 62.97640\\\\\n\t5 & F & 56.64754\\\\\n\t6 & M & 50.89766\\\\\n\\end{tabular}\n",
            "text/markdown": "\nA data.frame: 6 × 2\n\n| <!--/--> | Gender &lt;chr&gt; | Weight &lt;dbl&gt; |\n|---|---|---|\n| 1 | F | 51.86773 |\n| 2 | M | 55.91822 |\n| 3 | F | 50.82186 |\n| 4 | M | 62.97640 |\n| 5 | F | 56.64754 |\n| 6 | M | 50.89766 |\n\n",
            "text/html": [
              "<table>\n",
              "<caption>A data.frame: 6 × 2</caption>\n",
              "<thead>\n",
              "\t<tr><th></th><th scope=col>Gender</th><th scope=col>Weight</th></tr>\n",
              "\t<tr><th></th><th scope=col>&lt;chr&gt;</th><th scope=col>&lt;dbl&gt;</th></tr>\n",
              "</thead>\n",
              "<tbody>\n",
              "\t<tr><th scope=row>1</th><td>F</td><td>51.86773</td></tr>\n",
              "\t<tr><th scope=row>2</th><td>M</td><td>55.91822</td></tr>\n",
              "\t<tr><th scope=row>3</th><td>F</td><td>50.82186</td></tr>\n",
              "\t<tr><th scope=row>4</th><td>M</td><td>62.97640</td></tr>\n",
              "\t<tr><th scope=row>5</th><td>F</td><td>56.64754</td></tr>\n",
              "\t<tr><th scope=row>6</th><td>M</td><td>50.89766</td></tr>\n",
              "</tbody>\n",
              "</table>\n"
            ]
          },
          "metadata": {
            "tags": []
          }
        }
      ]
    },
    {
      "cell_type": "code",
      "metadata": {
        "id": "4fM2HAnmE-8M"
      },
      "source": [
        ""
      ],
      "execution_count": null,
      "outputs": []
    }
  ]
}